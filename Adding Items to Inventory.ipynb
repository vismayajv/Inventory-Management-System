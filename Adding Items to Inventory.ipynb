{
 "cells": [
  {
   "cell_type": "code",
   "execution_count": 2,
   "id": "3d295094",
   "metadata": {},
   "outputs": [
    {
     "data": {
      "text/plain": [
       "'{\"1\": {\"Product_Name\": \"Choclates\", \"Product_Price\": 20, \"Product_Qty\": 52, \"Manufacture_Month and Year\": \"January - 2019\", \"Expire_Date\": \"Best before 6 months from Manufacture\"}, \"2\": {\"Product_Name\": \"Ginger Garlic Paste\", \"Product_Price\": 60, \"Product_Qty\": 100, \"Manufacture_Month and Year\": \"January - 2018\", \"Expire_Date\": \"Best before 6 months from Manufacture\"}, \"3\": {\"Product_Name\": \"MTR Gulab Jamnun Mix\", \"Product_Price\": 75, \"Product_Qty\": 25, \"Manufacture_Month and Year\": \"August - 2018\", \"Expire_Date\": \"Best before 3 months from Manufacture\"}, \"4\": {\"Product_Name\": \"Lays\", \"Product_Price\": 20, \"Product_Qty\": 30, \"Manufacture_Month and Year\": \"March - 2019\", \"Expire_Date\": \"Best before 2 months from Manufacture\"}, \"5\": {\"Product_Name\": \"Vangibath Powder\", \"Product_Price\": 65, \"Product_Qty\": 150, \"Manufacture_Month and Year\": \"Febraury - 2019\", \"Expire_Date\": \"Best before 5 months from Manufacture\"}, \"6\": {\"Product_Name\": \"Tomato Ketchup\", \"Product_Price\": 122, \"Product_Qty\": 100, \"Manufacture_Month and Year\": \"June - 2020\", \"Expire_Date\": \"Best before 3 months from Manufacture\"}, \"7\": {\"Product_Name\": \"Green Chilli Sauce\", \"Product_Price\": 55, \"Product_Qty\": 42, \"Manufacture_Month and Year\": \"July - 2020\", \"Expire_Date\": \"Best before 4 months from Manufacture\"}, \"8\": {\"Product_Name\": \"Pappad\", \"Product_Price\": 60, \"Product_Qty\": 100, \"Manufacture_Month and Year\": \"April - 2020\", \"Expire_Date\": \"Best before 1 months from Manufacture\"}, \"9\": {\"Product_Name\": \"Cooking Oil\", \"Product_Price\": 160, \"Product_Qty\": 100, \"Manufacture_Month and Year\": \"October - 2020\", \"Expire_Date\": \"Best before 3 months from Manufacture\"}, \"10\": {\"Product_Name\": \"Shampoo\", \"Product_Price\": 180, \"Product_Qty\": 10, \"Manufacture_Month and Year\": \"November - 2020\", \"Expire_Date\": \"Best before 10 months from Manufacture\"}, \"11\": {\"Product_Name\": \"Panner\", \"Product_Price\": 60, \"Product_Qty\": 65, \"Manufacture_Month and Year\": \"December - 2020\", \"Expire_Date\": \"Best before 2 months from Manufacture\"}, \"12\": {\"Product_Name\": \"Cheese\", \"Product_Price\": 75, \"Product_Qty\": 25, \"Manufacture_Month and Year\": \"January - 2021\", \"Expire_Date\": \"Best before 2 months from Manufacture\"}}'"
      ]
     },
     "execution_count": 2,
     "metadata": {},
     "output_type": "execute_result"
    }
   ],
   "source": [
    "fd = open(\"records.json\",\"r\")\n",
    "text = fd.read()\n",
    "fd.close()\n",
    "text"
   ]
  },
  {
   "cell_type": "code",
   "execution_count": 3,
   "id": "ff295427",
   "metadata": {},
   "outputs": [],
   "source": [
    "import json"
   ]
  },
  {
   "cell_type": "code",
   "execution_count": 4,
   "id": "39fb1737",
   "metadata": {},
   "outputs": [],
   "source": [
    "records = json.loads(text)"
   ]
  },
  {
   "cell_type": "code",
   "execution_count": 5,
   "id": "2037562f",
   "metadata": {},
   "outputs": [
    {
     "data": {
      "text/plain": [
       "{'1': {'Product_Name': 'Choclates',\n",
       "  'Product_Price': 20,\n",
       "  'Product_Qty': 52,\n",
       "  'Manufacture_Month and Year': 'January - 2019',\n",
       "  'Expire_Date': 'Best before 6 months from Manufacture'},\n",
       " '2': {'Product_Name': 'Ginger Garlic Paste',\n",
       "  'Product_Price': 60,\n",
       "  'Product_Qty': 100,\n",
       "  'Manufacture_Month and Year': 'January - 2018',\n",
       "  'Expire_Date': 'Best before 6 months from Manufacture'},\n",
       " '3': {'Product_Name': 'MTR Gulab Jamnun Mix',\n",
       "  'Product_Price': 75,\n",
       "  'Product_Qty': 25,\n",
       "  'Manufacture_Month and Year': 'August - 2018',\n",
       "  'Expire_Date': 'Best before 3 months from Manufacture'},\n",
       " '4': {'Product_Name': 'Lays',\n",
       "  'Product_Price': 20,\n",
       "  'Product_Qty': 30,\n",
       "  'Manufacture_Month and Year': 'March - 2019',\n",
       "  'Expire_Date': 'Best before 2 months from Manufacture'},\n",
       " '5': {'Product_Name': 'Vangibath Powder',\n",
       "  'Product_Price': 65,\n",
       "  'Product_Qty': 150,\n",
       "  'Manufacture_Month and Year': 'Febraury - 2019',\n",
       "  'Expire_Date': 'Best before 5 months from Manufacture'},\n",
       " '6': {'Product_Name': 'Tomato Ketchup',\n",
       "  'Product_Price': 122,\n",
       "  'Product_Qty': 100,\n",
       "  'Manufacture_Month and Year': 'June - 2020',\n",
       "  'Expire_Date': 'Best before 3 months from Manufacture'},\n",
       " '7': {'Product_Name': 'Green Chilli Sauce',\n",
       "  'Product_Price': 55,\n",
       "  'Product_Qty': 42,\n",
       "  'Manufacture_Month and Year': 'July - 2020',\n",
       "  'Expire_Date': 'Best before 4 months from Manufacture'},\n",
       " '8': {'Product_Name': 'Pappad',\n",
       "  'Product_Price': 60,\n",
       "  'Product_Qty': 100,\n",
       "  'Manufacture_Month and Year': 'April - 2020',\n",
       "  'Expire_Date': 'Best before 1 months from Manufacture'},\n",
       " '9': {'Product_Name': 'Cooking Oil',\n",
       "  'Product_Price': 160,\n",
       "  'Product_Qty': 100,\n",
       "  'Manufacture_Month and Year': 'October - 2020',\n",
       "  'Expire_Date': 'Best before 3 months from Manufacture'},\n",
       " '10': {'Product_Name': 'Shampoo',\n",
       "  'Product_Price': 180,\n",
       "  'Product_Qty': 10,\n",
       "  'Manufacture_Month and Year': 'November - 2020',\n",
       "  'Expire_Date': 'Best before 10 months from Manufacture'},\n",
       " '11': {'Product_Name': 'Panner',\n",
       "  'Product_Price': 60,\n",
       "  'Product_Qty': 65,\n",
       "  'Manufacture_Month and Year': 'December - 2020',\n",
       "  'Expire_Date': 'Best before 2 months from Manufacture'},\n",
       " '12': {'Product_Name': 'Cheese',\n",
       "  'Product_Price': 75,\n",
       "  'Product_Qty': 25,\n",
       "  'Manufacture_Month and Year': 'January - 2021',\n",
       "  'Expire_Date': 'Best before 2 months from Manufacture'}}"
      ]
     },
     "execution_count": 5,
     "metadata": {},
     "output_type": "execute_result"
    }
   ],
   "source": [
    "records"
   ]
  },
  {
   "cell_type": "code",
   "execution_count": 1,
   "id": "c765a7ac",
   "metadata": {
    "scrolled": true
   },
   "outputs": [
    {
     "name": "stdout",
     "output_type": "stream",
     "text": [
      "Enter the number of items that you want to add in inventory: 2\n",
      "\n",
      "Enter the product_id: 100\n",
      "Enter the Product_Name: chili\n",
      "Enter the Product_Price: 50\n",
      "Enter the Product_Qty: 5\n",
      "Enter the Manufacture_Month and Year: jan\n",
      "Enter the Expire_Date: feb\n",
      "\n",
      "Enter the product_id: 101\n",
      "Enter the Product_Name: rangoli\n",
      "Enter the Product_Price: 20\n",
      "Enter the Product_Qty: 2\n",
      "Enter the Manufacture_Month and Year: mar\n",
      "Enter the Expire_Date: aug\n"
     ]
    }
   ],
   "source": [
    "number = int(input(\"Enter the number of items that you want to add in inventory: \"))\n",
    "for i in range(number):\n",
    "  product_id =str(input(\"\\nEnter the product_id: \"))\n",
    "  Product_Name =         str(input(\"Enter the Product_Name: \"))\n",
    "  Product_Price =        int(input(\"Enter the Product_Price: \"))\n",
    "  Product_Qty =          int(input(\"Enter the Product_Qty: \"))\n",
    "  Manufacture_Month_Year =  str(input(\"Enter the Manufacture_Month and Year: \"))\n",
    "  Expire_Date=        str(input(\"Enter the Expire_Date: \"))"
   ]
  },
  {
   "cell_type": "code",
   "execution_count": 3,
   "id": "4bbc8d7b",
   "metadata": {},
   "outputs": [
    {
     "ename": "NameError",
     "evalue": "name 'records' is not defined",
     "output_type": "error",
     "traceback": [
      "\u001b[1;31m---------------------------------------------------------------------------\u001b[0m",
      "\u001b[1;31mNameError\u001b[0m                                 Traceback (most recent call last)",
      "\u001b[1;32m<ipython-input-3-095f98f6b6cb>\u001b[0m in \u001b[0;36m<module>\u001b[1;34m\u001b[0m\n\u001b[1;32m----> 1\u001b[1;33m \u001b[0mrecords\u001b[0m\u001b[1;33m[\u001b[0m\u001b[0mproduct_id\u001b[0m\u001b[1;33m]\u001b[0m \u001b[1;33m=\u001b[0m \u001b[1;33m{\u001b[0m\u001b[1;34m'Product_Name'\u001b[0m\u001b[1;33m:\u001b[0m\u001b[0mProduct_Name\u001b[0m\u001b[1;33m,\u001b[0m\u001b[1;34m'Product_Price'\u001b[0m\u001b[1;33m:\u001b[0m\u001b[0mProduct_Price\u001b[0m\u001b[1;33m,\u001b[0m\u001b[1;34m'Product_Qty'\u001b[0m\u001b[1;33m:\u001b[0m\u001b[0mProduct_Qty\u001b[0m\u001b[1;33m,\u001b[0m\u001b[1;34m\"Manufacture_Month and Year\"\u001b[0m\u001b[1;33m:\u001b[0m\u001b[0mManufacture_Month_Year\u001b[0m\u001b[1;33m,\u001b[0m\u001b[1;34m'Expire_Date'\u001b[0m\u001b[1;33m:\u001b[0m\u001b[0mExpire_Date\u001b[0m\u001b[1;33m}\u001b[0m\u001b[1;33m\u001b[0m\u001b[1;33m\u001b[0m\u001b[0m\n\u001b[0m",
      "\u001b[1;31mNameError\u001b[0m: name 'records' is not defined"
     ]
    }
   ],
   "source": [
    "records[product_id] = {'Product_Name':Product_Name,'Product_Price':Product_Price,'Product_Qty':Product_Qty,\"Manufacture_Month and Year\":Manufacture_Month_Year,'Expire_Date':Expire_Date}"
   ]
  },
  {
   "cell_type": "code",
   "execution_count": 8,
   "id": "acce6886",
   "metadata": {},
   "outputs": [
    {
     "data": {
      "text/plain": [
       "{'1': {'Product_Name': 'Choclates',\n",
       "  'Product_Price': 20,\n",
       "  'Product_Qty': 52,\n",
       "  'Manufacture_Month and Year': 'January - 2019',\n",
       "  'Expire_Date': 'Best before 6 months from Manufacture'},\n",
       " '2': {'Product_Name': 'Ginger Garlic Paste',\n",
       "  'Product_Price': 60,\n",
       "  'Product_Qty': 100,\n",
       "  'Manufacture_Month and Year': 'January - 2018',\n",
       "  'Expire_Date': 'Best before 6 months from Manufacture'},\n",
       " '3': {'Product_Name': 'MTR Gulab Jamnun Mix',\n",
       "  'Product_Price': 75,\n",
       "  'Product_Qty': 25,\n",
       "  'Manufacture_Month and Year': 'August - 2018',\n",
       "  'Expire_Date': 'Best before 3 months from Manufacture'},\n",
       " '4': {'Product_Name': 'Lays',\n",
       "  'Product_Price': 20,\n",
       "  'Product_Qty': 30,\n",
       "  'Manufacture_Month and Year': 'March - 2019',\n",
       "  'Expire_Date': 'Best before 2 months from Manufacture'},\n",
       " '5': {'Product_Name': 'Vangibath Powder',\n",
       "  'Product_Price': 65,\n",
       "  'Product_Qty': 150,\n",
       "  'Manufacture_Month and Year': 'Febraury - 2019',\n",
       "  'Expire_Date': 'Best before 5 months from Manufacture'},\n",
       " '6': {'Product_Name': 'Tomato Ketchup',\n",
       "  'Product_Price': 122,\n",
       "  'Product_Qty': 100,\n",
       "  'Manufacture_Month and Year': 'June - 2020',\n",
       "  'Expire_Date': 'Best before 3 months from Manufacture'},\n",
       " '7': {'Product_Name': 'Green Chilli Sauce',\n",
       "  'Product_Price': 55,\n",
       "  'Product_Qty': 42,\n",
       "  'Manufacture_Month and Year': 'July - 2020',\n",
       "  'Expire_Date': 'Best before 4 months from Manufacture'},\n",
       " '8': {'Product_Name': 'Pappad',\n",
       "  'Product_Price': 60,\n",
       "  'Product_Qty': 100,\n",
       "  'Manufacture_Month and Year': 'April - 2020',\n",
       "  'Expire_Date': 'Best before 1 months from Manufacture'},\n",
       " '9': {'Product_Name': 'Cooking Oil',\n",
       "  'Product_Price': 160,\n",
       "  'Product_Qty': 100,\n",
       "  'Manufacture_Month and Year': 'October - 2020',\n",
       "  'Expire_Date': 'Best before 3 months from Manufacture'},\n",
       " '10': {'Product_Name': 'Shampoo',\n",
       "  'Product_Price': 180,\n",
       "  'Product_Qty': 10,\n",
       "  'Manufacture_Month and Year': 'November - 2020',\n",
       "  'Expire_Date': 'Best before 10 months from Manufacture'},\n",
       " '11': {'Product_Name': 'Panner',\n",
       "  'Product_Price': 60,\n",
       "  'Product_Qty': 65,\n",
       "  'Manufacture_Month and Year': 'December - 2020',\n",
       "  'Expire_Date': 'Best before 2 months from Manufacture'},\n",
       " '12': {'Product_Name': 'Cheese',\n",
       "  'Product_Price': 75,\n",
       "  'Product_Qty': 25,\n",
       "  'Manufacture_Month and Year': 'January - 2021',\n",
       "  'Expire_Date': 'Best before 2 months from Manufacture'},\n",
       " '13': {'Product_Name': 'Rava',\n",
       "  'Product_Price': 35,\n",
       "  'Product_Qty': 15,\n",
       "  'Manufacture_Month and Year': 'December - 2020',\n",
       "  'Expire_Date': 'Best before 3 months from Manufacture'}}"
      ]
     },
     "execution_count": 8,
     "metadata": {},
     "output_type": "execute_result"
    }
   ],
   "source": [
    "records"
   ]
  },
  {
   "cell_type": "code",
   "execution_count": 14,
   "id": "fff03d05",
   "metadata": {},
   "outputs": [
    {
     "name": "stdout",
     "output_type": "stream",
     "text": [
      "\n",
      "Enter the product_id: 14\n",
      "Enter the Product_Name: Comfort\n",
      "Enter the Product_Price: 112\n",
      "Enter the Product_Qty: 25\n",
      "Enter the Manufacture_Month and Year: January - 2021\n",
      "Enter the Expire_Date: Best before 2 months from Manufacture\n"
     ]
    }
   ],
   "source": [
    "  product_id =str(input(\"\\nEnter the product_id: \"))\n",
    "  Product_Name =         str(input(\"Enter the Product_Name: \"))\n",
    "  Product_Price =        int(input(\"Enter the Product_Price: \"))\n",
    "  Product_Qty =          int(input(\"Enter the Product_Qty: \"))\n",
    "  Manufacture_Month_Year =  str(input(\"Enter the Manufacture_Month and Year: \"))\n",
    "  Expire_Date=        str(input(\"Enter the Expire_Date: \"))"
   ]
  },
  {
   "cell_type": "code",
   "execution_count": 15,
   "id": "56de98b0",
   "metadata": {},
   "outputs": [],
   "source": [
    "records[product_id] = {'Product_Name':Product_Name,'Product_Price':Product_Price,'Product_Qty':Product_Qty,\"Manufacture_Month and Year\":Manufacture_Month_Year,'Expire_Date':Expire_Date}"
   ]
  },
  {
   "cell_type": "code",
   "execution_count": 16,
   "id": "575efe85",
   "metadata": {},
   "outputs": [
    {
     "data": {
      "text/plain": [
       "{'1': {'Product_Name': 'Choclates',\n",
       "  'Product_Price': 20,\n",
       "  'Product_Qty': 52,\n",
       "  'Manufacture_Month and Year': 'January - 2019',\n",
       "  'Expire_Date': 'Best before 6 months from Manufacture'},\n",
       " '2': {'Product_Name': 'Ginger Garlic Paste',\n",
       "  'Product_Price': 60,\n",
       "  'Product_Qty': 100,\n",
       "  'Manufacture_Month and Year': 'January - 2018',\n",
       "  'Expire_Date': 'Best before 6 months from Manufacture'},\n",
       " '3': {'Product_Name': 'MTR Gulab Jamnun Mix',\n",
       "  'Product_Price': 75,\n",
       "  'Product_Qty': 25,\n",
       "  'Manufacture_Month and Year': 'August - 2018',\n",
       "  'Expire_Date': 'Best before 3 months from Manufacture'},\n",
       " '4': {'Product_Name': 'Lays',\n",
       "  'Product_Price': 20,\n",
       "  'Product_Qty': 30,\n",
       "  'Manufacture_Month and Year': 'March - 2019',\n",
       "  'Expire_Date': 'Best before 2 months from Manufacture'},\n",
       " '5': {'Product_Name': 'Vangibath Powder',\n",
       "  'Product_Price': 65,\n",
       "  'Product_Qty': 150,\n",
       "  'Manufacture_Month and Year': 'Febraury - 2019',\n",
       "  'Expire_Date': 'Best before 5 months from Manufacture'},\n",
       " '6': {'Product_Name': 'Tomato Ketchup',\n",
       "  'Product_Price': 122,\n",
       "  'Product_Qty': 100,\n",
       "  'Manufacture_Month and Year': 'June - 2020',\n",
       "  'Expire_Date': 'Best before 3 months from Manufacture'},\n",
       " '7': {'Product_Name': 'Green Chilli Sauce',\n",
       "  'Product_Price': 55,\n",
       "  'Product_Qty': 42,\n",
       "  'Manufacture_Month and Year': 'July - 2020',\n",
       "  'Expire_Date': 'Best before 4 months from Manufacture'},\n",
       " '8': {'Product_Name': 'Pappad',\n",
       "  'Product_Price': 60,\n",
       "  'Product_Qty': 100,\n",
       "  'Manufacture_Month and Year': 'April - 2020',\n",
       "  'Expire_Date': 'Best before 1 months from Manufacture'},\n",
       " '9': {'Product_Name': 'Cooking Oil',\n",
       "  'Product_Price': 160,\n",
       "  'Product_Qty': 100,\n",
       "  'Manufacture_Month and Year': 'October - 2020',\n",
       "  'Expire_Date': 'Best before 3 months from Manufacture'},\n",
       " '10': {'Product_Name': 'Shampoo',\n",
       "  'Product_Price': 180,\n",
       "  'Product_Qty': 10,\n",
       "  'Manufacture_Month and Year': 'November - 2020',\n",
       "  'Expire_Date': 'Best before 10 months from Manufacture'},\n",
       " '11': {'Product_Name': 'Panner',\n",
       "  'Product_Price': 60,\n",
       "  'Product_Qty': 65,\n",
       "  'Manufacture_Month and Year': 'December - 2020',\n",
       "  'Expire_Date': 'Best before 2 months from Manufacture'},\n",
       " '12': {'Product_Name': 'Cheese',\n",
       "  'Product_Price': 75,\n",
       "  'Product_Qty': 25,\n",
       "  'Manufacture_Month and Year': 'January - 2021',\n",
       "  'Expire_Date': 'Best before 2 months from Manufacture'},\n",
       " '13': {'Product_Name': 'Rava',\n",
       "  'Product_Price': 35,\n",
       "  'Product_Qty': 15,\n",
       "  'Manufacture_Month and Year': 'December - 2020',\n",
       "  'Expire_Date': 'Best before 3 months from Manufacture'},\n",
       " '15': {'Product_Name': 'Harpic ',\n",
       "  'Product_Price': 125,\n",
       "  'Product_Qty': 20,\n",
       "  'Manufacture_Month and Year': 'January - 2021',\n",
       "  'Expire_Date': 'Best before 2 months from Manufacture'},\n",
       " '14': {'Product_Name': 'Comfort',\n",
       "  'Product_Price': 112,\n",
       "  'Product_Qty': 25,\n",
       "  'Manufacture_Month and Year': 'January - 2021',\n",
       "  'Expire_Date': 'Best before 2 months from Manufacture'}}"
      ]
     },
     "execution_count": 16,
     "metadata": {},
     "output_type": "execute_result"
    }
   ],
   "source": [
    "records"
   ]
  },
  {
   "cell_type": "code",
   "execution_count": 18,
   "id": "9e573704",
   "metadata": {},
   "outputs": [
    {
     "name": "stdout",
     "output_type": "stream",
     "text": [
      "\n",
      "Enter the product_id: 16\n",
      "Enter the Product_Name: Wheat Flour\n",
      "Enter the Product_Price: 30\n",
      "Enter the Product_Qty: 12\n",
      "Enter the Manufacture_Month and Year: February - 2021 \n",
      "Enter the Expire_Date: Best before 1 month from Manufacture\n"
     ]
    }
   ],
   "source": [
    "  product_id =int(input(\"\\nEnter the product_id: \"))\n",
    "  Product_Name = str(input(\"Enter the Product_Name: \"))\n",
    "  Product_Price = int(input(\"Enter the Product_Price: \"))\n",
    "  Product_Qty =   int(input(\"Enter the Product_Qty: \"))\n",
    "  Manufacture_Month_Year =  str(input(\"Enter the Manufacture_Month and Year: \"))\n",
    "  Expire_Date=        str(input(\"Enter the Expire_Date: \"))"
   ]
  },
  {
   "cell_type": "code",
   "execution_count": 19,
   "id": "aa7e5396",
   "metadata": {},
   "outputs": [],
   "source": [
    "records[product_id] = {'Product_Name':Product_Name,'Product_Price':Product_Price,'Product_Qty':Product_Qty,\"Manufacture_Month and Year\":Manufacture_Month_Year,'Expire_Date':Expire_Date}"
   ]
  },
  {
   "cell_type": "code",
   "execution_count": 20,
   "id": "b4b0fb8f",
   "metadata": {},
   "outputs": [
    {
     "data": {
      "text/plain": [
       "{'1': {'Product_Name': 'Choclates',\n",
       "  'Product_Price': 20,\n",
       "  'Product_Qty': 52,\n",
       "  'Manufacture_Month and Year': 'January - 2019',\n",
       "  'Expire_Date': 'Best before 6 months from Manufacture'},\n",
       " '2': {'Product_Name': 'Ginger Garlic Paste',\n",
       "  'Product_Price': 60,\n",
       "  'Product_Qty': 100,\n",
       "  'Manufacture_Month and Year': 'January - 2018',\n",
       "  'Expire_Date': 'Best before 6 months from Manufacture'},\n",
       " '3': {'Product_Name': 'MTR Gulab Jamnun Mix',\n",
       "  'Product_Price': 75,\n",
       "  'Product_Qty': 25,\n",
       "  'Manufacture_Month and Year': 'August - 2018',\n",
       "  'Expire_Date': 'Best before 3 months from Manufacture'},\n",
       " '4': {'Product_Name': 'Lays',\n",
       "  'Product_Price': 20,\n",
       "  'Product_Qty': 30,\n",
       "  'Manufacture_Month and Year': 'March - 2019',\n",
       "  'Expire_Date': 'Best before 2 months from Manufacture'},\n",
       " '5': {'Product_Name': 'Vangibath Powder',\n",
       "  'Product_Price': 65,\n",
       "  'Product_Qty': 150,\n",
       "  'Manufacture_Month and Year': 'Febraury - 2019',\n",
       "  'Expire_Date': 'Best before 5 months from Manufacture'},\n",
       " '6': {'Product_Name': 'Tomato Ketchup',\n",
       "  'Product_Price': 122,\n",
       "  'Product_Qty': 100,\n",
       "  'Manufacture_Month and Year': 'June - 2020',\n",
       "  'Expire_Date': 'Best before 3 months from Manufacture'},\n",
       " '7': {'Product_Name': 'Green Chilli Sauce',\n",
       "  'Product_Price': 55,\n",
       "  'Product_Qty': 42,\n",
       "  'Manufacture_Month and Year': 'July - 2020',\n",
       "  'Expire_Date': 'Best before 4 months from Manufacture'},\n",
       " '8': {'Product_Name': 'Pappad',\n",
       "  'Product_Price': 60,\n",
       "  'Product_Qty': 100,\n",
       "  'Manufacture_Month and Year': 'April - 2020',\n",
       "  'Expire_Date': 'Best before 1 months from Manufacture'},\n",
       " '9': {'Product_Name': 'Cooking Oil',\n",
       "  'Product_Price': 160,\n",
       "  'Product_Qty': 100,\n",
       "  'Manufacture_Month and Year': 'October - 2020',\n",
       "  'Expire_Date': 'Best before 3 months from Manufacture'},\n",
       " '10': {'Product_Name': 'Shampoo',\n",
       "  'Product_Price': 180,\n",
       "  'Product_Qty': 10,\n",
       "  'Manufacture_Month and Year': 'November - 2020',\n",
       "  'Expire_Date': 'Best before 10 months from Manufacture'},\n",
       " '11': {'Product_Name': 'Panner',\n",
       "  'Product_Price': 60,\n",
       "  'Product_Qty': 65,\n",
       "  'Manufacture_Month and Year': 'December - 2020',\n",
       "  'Expire_Date': 'Best before 2 months from Manufacture'},\n",
       " '12': {'Product_Name': 'Cheese',\n",
       "  'Product_Price': 75,\n",
       "  'Product_Qty': 25,\n",
       "  'Manufacture_Month and Year': 'January - 2021',\n",
       "  'Expire_Date': 'Best before 2 months from Manufacture'},\n",
       " '13': {'Product_Name': 'Rava',\n",
       "  'Product_Price': 35,\n",
       "  'Product_Qty': 15,\n",
       "  'Manufacture_Month and Year': 'December - 2020',\n",
       "  'Expire_Date': 'Best before 3 months from Manufacture'},\n",
       " '15': {'Product_Name': 'Harpic ',\n",
       "  'Product_Price': 125,\n",
       "  'Product_Qty': 20,\n",
       "  'Manufacture_Month and Year': 'January - 2021',\n",
       "  'Expire_Date': 'Best before 2 months from Manufacture'},\n",
       " '14': {'Product_Name': 'Comfort',\n",
       "  'Product_Price': 112,\n",
       "  'Product_Qty': 25,\n",
       "  'Manufacture_Month and Year': 'January - 2021',\n",
       "  'Expire_Date': 'Best before 2 months from Manufacture'},\n",
       " 16: {'Product_Name': 'Wheat Flour',\n",
       "  'Product_Price': 30,\n",
       "  'Product_Qty': 12,\n",
       "  'Manufacture_Month and Year': 'February - 2021 ',\n",
       "  'Expire_Date': 'Best before 1 month from Manufacture'}}"
      ]
     },
     "execution_count": 20,
     "metadata": {},
     "output_type": "execute_result"
    }
   ],
   "source": [
    "records"
   ]
  },
  {
   "cell_type": "code",
   "execution_count": 21,
   "id": "8911bc17",
   "metadata": {},
   "outputs": [
    {
     "name": "stdout",
     "output_type": "stream",
     "text": [
      "\n",
      "Enter the product_id: 17\n",
      "Enter the Product_Name: Maggie\n",
      "Enter the Product_Price: 12\n",
      "Enter the Product_Qty: 52\n",
      "Enter the Manufacture_Month and Year: Febuary - 2021\n",
      "Enter the Expire_Date: Best before 2 months from Manufacture\n"
     ]
    }
   ],
   "source": [
    "  product_id =int(input(\"\\nEnter the product_id: \"))\n",
    "  Product_Name = str(input(\"Enter the Product_Name: \"))\n",
    "  Product_Price = int(input(\"Enter the Product_Price: \"))\n",
    "  Product_Qty =   int(input(\"Enter the Product_Qty: \"))\n",
    "  Manufacture_Month_Year =  str(input(\"Enter the Manufacture_Month and Year: \"))\n",
    "  Expire_Date=        str(input(\"Enter the Expire_Date: \"))"
   ]
  },
  {
   "cell_type": "code",
   "execution_count": 22,
   "id": "3fb37cbf",
   "metadata": {},
   "outputs": [
    {
     "name": "stdout",
     "output_type": "stream",
     "text": [
      "\n",
      "Enter the product_id: 17\n",
      "Enter the Product_Name: Poha\n",
      "Enter the Product_Price: 23\n",
      "Enter the Product_Qty: 20\n",
      "Enter the Manufacture_Month and Year: March - 2021\n",
      "Enter the Expire_Date: Best before 1 month from Manufacture\n"
     ]
    }
   ],
   "source": [
    "  \n",
    "  product_id =int(input(\"\\nEnter the product_id: \"))\n",
    "  Product_Name = str(input(\"Enter the Product_Name: \"))\n",
    "  Product_Price = int(input(\"Enter the Product_Price: \"))\n",
    "  Product_Qty =   int(input(\"Enter the Product_Qty: \"))\n",
    "  Manufacture_Month_Year =  str(input(\"Enter the Manufacture_Month and Year: \"))\n",
    "  Expire_Date=        str(input(\"Enter the Expire_Date: \"))"
   ]
  },
  {
   "cell_type": "code",
   "execution_count": 23,
   "id": "eba5c9bc",
   "metadata": {},
   "outputs": [],
   "source": [
    "records[product_id] = {'Product_Name':Product_Name,'Product_Price':Product_Price,'Product_Qty':Product_Qty,\"Manufacture_Month and Year\":Manufacture_Month_Year,'Expire_Date':Expire_Date}"
   ]
  },
  {
   "cell_type": "code",
   "execution_count": 24,
   "id": "ae0d81f5",
   "metadata": {},
   "outputs": [
    {
     "data": {
      "text/plain": [
       "{'1': {'Product_Name': 'Choclates',\n",
       "  'Product_Price': 20,\n",
       "  'Product_Qty': 52,\n",
       "  'Manufacture_Month and Year': 'January - 2019',\n",
       "  'Expire_Date': 'Best before 6 months from Manufacture'},\n",
       " '2': {'Product_Name': 'Ginger Garlic Paste',\n",
       "  'Product_Price': 60,\n",
       "  'Product_Qty': 100,\n",
       "  'Manufacture_Month and Year': 'January - 2018',\n",
       "  'Expire_Date': 'Best before 6 months from Manufacture'},\n",
       " '3': {'Product_Name': 'MTR Gulab Jamnun Mix',\n",
       "  'Product_Price': 75,\n",
       "  'Product_Qty': 25,\n",
       "  'Manufacture_Month and Year': 'August - 2018',\n",
       "  'Expire_Date': 'Best before 3 months from Manufacture'},\n",
       " '4': {'Product_Name': 'Lays',\n",
       "  'Product_Price': 20,\n",
       "  'Product_Qty': 30,\n",
       "  'Manufacture_Month and Year': 'March - 2019',\n",
       "  'Expire_Date': 'Best before 2 months from Manufacture'},\n",
       " '5': {'Product_Name': 'Vangibath Powder',\n",
       "  'Product_Price': 65,\n",
       "  'Product_Qty': 150,\n",
       "  'Manufacture_Month and Year': 'Febraury - 2019',\n",
       "  'Expire_Date': 'Best before 5 months from Manufacture'},\n",
       " '6': {'Product_Name': 'Tomato Ketchup',\n",
       "  'Product_Price': 122,\n",
       "  'Product_Qty': 100,\n",
       "  'Manufacture_Month and Year': 'June - 2020',\n",
       "  'Expire_Date': 'Best before 3 months from Manufacture'},\n",
       " '7': {'Product_Name': 'Green Chilli Sauce',\n",
       "  'Product_Price': 55,\n",
       "  'Product_Qty': 42,\n",
       "  'Manufacture_Month and Year': 'July - 2020',\n",
       "  'Expire_Date': 'Best before 4 months from Manufacture'},\n",
       " '8': {'Product_Name': 'Pappad',\n",
       "  'Product_Price': 60,\n",
       "  'Product_Qty': 100,\n",
       "  'Manufacture_Month and Year': 'April - 2020',\n",
       "  'Expire_Date': 'Best before 1 months from Manufacture'},\n",
       " '9': {'Product_Name': 'Cooking Oil',\n",
       "  'Product_Price': 160,\n",
       "  'Product_Qty': 100,\n",
       "  'Manufacture_Month and Year': 'October - 2020',\n",
       "  'Expire_Date': 'Best before 3 months from Manufacture'},\n",
       " '10': {'Product_Name': 'Shampoo',\n",
       "  'Product_Price': 180,\n",
       "  'Product_Qty': 10,\n",
       "  'Manufacture_Month and Year': 'November - 2020',\n",
       "  'Expire_Date': 'Best before 10 months from Manufacture'},\n",
       " '11': {'Product_Name': 'Panner',\n",
       "  'Product_Price': 60,\n",
       "  'Product_Qty': 65,\n",
       "  'Manufacture_Month and Year': 'December - 2020',\n",
       "  'Expire_Date': 'Best before 2 months from Manufacture'},\n",
       " '12': {'Product_Name': 'Cheese',\n",
       "  'Product_Price': 75,\n",
       "  'Product_Qty': 25,\n",
       "  'Manufacture_Month and Year': 'January - 2021',\n",
       "  'Expire_Date': 'Best before 2 months from Manufacture'},\n",
       " '13': {'Product_Name': 'Rava',\n",
       "  'Product_Price': 35,\n",
       "  'Product_Qty': 15,\n",
       "  'Manufacture_Month and Year': 'December - 2020',\n",
       "  'Expire_Date': 'Best before 3 months from Manufacture'},\n",
       " '15': {'Product_Name': 'Harpic ',\n",
       "  'Product_Price': 125,\n",
       "  'Product_Qty': 20,\n",
       "  'Manufacture_Month and Year': 'January - 2021',\n",
       "  'Expire_Date': 'Best before 2 months from Manufacture'},\n",
       " '14': {'Product_Name': 'Comfort',\n",
       "  'Product_Price': 112,\n",
       "  'Product_Qty': 25,\n",
       "  'Manufacture_Month and Year': 'January - 2021',\n",
       "  'Expire_Date': 'Best before 2 months from Manufacture'},\n",
       " 16: {'Product_Name': 'Wheat Flour',\n",
       "  'Product_Price': 30,\n",
       "  'Product_Qty': 12,\n",
       "  'Manufacture_Month and Year': 'February - 2021 ',\n",
       "  'Expire_Date': 'Best before 1 month from Manufacture'},\n",
       " 17: {'Product_Name': 'Poha',\n",
       "  'Product_Price': 23,\n",
       "  'Product_Qty': 20,\n",
       "  'Manufacture_Month and Year': 'March - 2021',\n",
       "  'Expire_Date': 'Best before 1 month from Manufacture'}}"
      ]
     },
     "execution_count": 24,
     "metadata": {},
     "output_type": "execute_result"
    }
   ],
   "source": [
    "records"
   ]
  },
  {
   "cell_type": "code",
   "execution_count": 25,
   "id": "796e4811",
   "metadata": {},
   "outputs": [
    {
     "name": "stdout",
     "output_type": "stream",
     "text": [
      "\n",
      "Enter the product_id: 18\n",
      "Enter the Product_Name: Biscuits\n",
      "Enter the Product_Price: 10\n",
      "Enter the Product_Qty: 10\n",
      "Enter the Manufacture_Month and Year: March - 2021\n",
      "Enter the Expire_Date: Best before 4 months from Manufacture\n"
     ]
    }
   ],
   "source": [
    "  product_id =int(input(\"\\nEnter the product_id: \"))\n",
    "  Product_Name = str(input(\"Enter the Product_Name: \"))\n",
    "  Product_Price = int(input(\"Enter the Product_Price: \"))\n",
    "  Product_Qty =   int(input(\"Enter the Product_Qty: \"))\n",
    "  Manufacture_Month_Year =  str(input(\"Enter the Manufacture_Month and Year: \"))\n",
    "  Expire_Date=        str(input(\"Enter the Expire_Date: \"))"
   ]
  },
  {
   "cell_type": "code",
   "execution_count": 26,
   "id": "5b14d980",
   "metadata": {},
   "outputs": [
    {
     "data": {
      "text/plain": [
       "{'1': {'Product_Name': 'Choclates',\n",
       "  'Product_Price': 20,\n",
       "  'Product_Qty': 52,\n",
       "  'Manufacture_Month and Year': 'January - 2019',\n",
       "  'Expire_Date': 'Best before 6 months from Manufacture'},\n",
       " '2': {'Product_Name': 'Ginger Garlic Paste',\n",
       "  'Product_Price': 60,\n",
       "  'Product_Qty': 100,\n",
       "  'Manufacture_Month and Year': 'January - 2018',\n",
       "  'Expire_Date': 'Best before 6 months from Manufacture'},\n",
       " '3': {'Product_Name': 'MTR Gulab Jamnun Mix',\n",
       "  'Product_Price': 75,\n",
       "  'Product_Qty': 25,\n",
       "  'Manufacture_Month and Year': 'August - 2018',\n",
       "  'Expire_Date': 'Best before 3 months from Manufacture'},\n",
       " '4': {'Product_Name': 'Lays',\n",
       "  'Product_Price': 20,\n",
       "  'Product_Qty': 30,\n",
       "  'Manufacture_Month and Year': 'March - 2019',\n",
       "  'Expire_Date': 'Best before 2 months from Manufacture'},\n",
       " '5': {'Product_Name': 'Vangibath Powder',\n",
       "  'Product_Price': 65,\n",
       "  'Product_Qty': 150,\n",
       "  'Manufacture_Month and Year': 'Febraury - 2019',\n",
       "  'Expire_Date': 'Best before 5 months from Manufacture'},\n",
       " '6': {'Product_Name': 'Tomato Ketchup',\n",
       "  'Product_Price': 122,\n",
       "  'Product_Qty': 100,\n",
       "  'Manufacture_Month and Year': 'June - 2020',\n",
       "  'Expire_Date': 'Best before 3 months from Manufacture'},\n",
       " '7': {'Product_Name': 'Green Chilli Sauce',\n",
       "  'Product_Price': 55,\n",
       "  'Product_Qty': 42,\n",
       "  'Manufacture_Month and Year': 'July - 2020',\n",
       "  'Expire_Date': 'Best before 4 months from Manufacture'},\n",
       " '8': {'Product_Name': 'Pappad',\n",
       "  'Product_Price': 60,\n",
       "  'Product_Qty': 100,\n",
       "  'Manufacture_Month and Year': 'April - 2020',\n",
       "  'Expire_Date': 'Best before 1 months from Manufacture'},\n",
       " '9': {'Product_Name': 'Cooking Oil',\n",
       "  'Product_Price': 160,\n",
       "  'Product_Qty': 100,\n",
       "  'Manufacture_Month and Year': 'October - 2020',\n",
       "  'Expire_Date': 'Best before 3 months from Manufacture'},\n",
       " '10': {'Product_Name': 'Shampoo',\n",
       "  'Product_Price': 180,\n",
       "  'Product_Qty': 10,\n",
       "  'Manufacture_Month and Year': 'November - 2020',\n",
       "  'Expire_Date': 'Best before 10 months from Manufacture'},\n",
       " '11': {'Product_Name': 'Panner',\n",
       "  'Product_Price': 60,\n",
       "  'Product_Qty': 65,\n",
       "  'Manufacture_Month and Year': 'December - 2020',\n",
       "  'Expire_Date': 'Best before 2 months from Manufacture'},\n",
       " '12': {'Product_Name': 'Cheese',\n",
       "  'Product_Price': 75,\n",
       "  'Product_Qty': 25,\n",
       "  'Manufacture_Month and Year': 'January - 2021',\n",
       "  'Expire_Date': 'Best before 2 months from Manufacture'},\n",
       " '13': {'Product_Name': 'Rava',\n",
       "  'Product_Price': 35,\n",
       "  'Product_Qty': 15,\n",
       "  'Manufacture_Month and Year': 'December - 2020',\n",
       "  'Expire_Date': 'Best before 3 months from Manufacture'},\n",
       " '15': {'Product_Name': 'Harpic ',\n",
       "  'Product_Price': 125,\n",
       "  'Product_Qty': 20,\n",
       "  'Manufacture_Month and Year': 'January - 2021',\n",
       "  'Expire_Date': 'Best before 2 months from Manufacture'},\n",
       " '14': {'Product_Name': 'Comfort',\n",
       "  'Product_Price': 112,\n",
       "  'Product_Qty': 25,\n",
       "  'Manufacture_Month and Year': 'January - 2021',\n",
       "  'Expire_Date': 'Best before 2 months from Manufacture'},\n",
       " 16: {'Product_Name': 'Wheat Flour',\n",
       "  'Product_Price': 30,\n",
       "  'Product_Qty': 12,\n",
       "  'Manufacture_Month and Year': 'February - 2021 ',\n",
       "  'Expire_Date': 'Best before 1 month from Manufacture'},\n",
       " 17: {'Product_Name': 'Poha',\n",
       "  'Product_Price': 23,\n",
       "  'Product_Qty': 20,\n",
       "  'Manufacture_Month and Year': 'March - 2021',\n",
       "  'Expire_Date': 'Best before 1 month from Manufacture'},\n",
       " 18: {'Product_Name': 'Biscuits',\n",
       "  'Product_Price': 10,\n",
       "  'Product_Qty': 10,\n",
       "  'Manufacture_Month and Year': 'March - 2021',\n",
       "  'Expire_Date': 'Best before 4 months from Manufacture'}}"
      ]
     },
     "execution_count": 26,
     "metadata": {},
     "output_type": "execute_result"
    }
   ],
   "source": [
    "records[product_id] = {'Product_Name':Product_Name,'Product_Price':Product_Price,'Product_Qty':Product_Qty,\"Manufacture_Month and Year\":Manufacture_Month_Year,'Expire_Date':Expire_Date}\n",
    "records"
   ]
  },
  {
   "cell_type": "code",
   "execution_count": 27,
   "id": "dac1df3e",
   "metadata": {},
   "outputs": [
    {
     "name": "stdout",
     "output_type": "stream",
     "text": [
      "\n",
      "Enter the product_id: 19\n",
      "Enter the Product_Name: Perk\n",
      "Enter the Product_Price: 5\n",
      "Enter the Product_Qty: 16\n",
      "Enter the Manufacture_Month and Year: April - 2021\n",
      "Enter the Expire_Date: Best before 1 month from Manufacture\n"
     ]
    }
   ],
   "source": [
    "  product_id =int(input(\"\\nEnter the product_id: \"))\n",
    "  Product_Name = str(input(\"Enter the Product_Name: \"))\n",
    "  Product_Price = int(input(\"Enter the Product_Price: \"))\n",
    "  Product_Qty =   int(input(\"Enter the Product_Qty: \"))\n",
    "  Manufacture_Month_Year =  str(input(\"Enter the Manufacture_Month and Year: \"))\n",
    "  Expire_Date=        str(input(\"Enter the Expire_Date: \"))"
   ]
  },
  {
   "cell_type": "code",
   "execution_count": 28,
   "id": "119a43b3",
   "metadata": {},
   "outputs": [
    {
     "data": {
      "text/plain": [
       "{'1': {'Product_Name': 'Choclates',\n",
       "  'Product_Price': 20,\n",
       "  'Product_Qty': 52,\n",
       "  'Manufacture_Month and Year': 'January - 2019',\n",
       "  'Expire_Date': 'Best before 6 months from Manufacture'},\n",
       " '2': {'Product_Name': 'Ginger Garlic Paste',\n",
       "  'Product_Price': 60,\n",
       "  'Product_Qty': 100,\n",
       "  'Manufacture_Month and Year': 'January - 2018',\n",
       "  'Expire_Date': 'Best before 6 months from Manufacture'},\n",
       " '3': {'Product_Name': 'MTR Gulab Jamnun Mix',\n",
       "  'Product_Price': 75,\n",
       "  'Product_Qty': 25,\n",
       "  'Manufacture_Month and Year': 'August - 2018',\n",
       "  'Expire_Date': 'Best before 3 months from Manufacture'},\n",
       " '4': {'Product_Name': 'Lays',\n",
       "  'Product_Price': 20,\n",
       "  'Product_Qty': 30,\n",
       "  'Manufacture_Month and Year': 'March - 2019',\n",
       "  'Expire_Date': 'Best before 2 months from Manufacture'},\n",
       " '5': {'Product_Name': 'Vangibath Powder',\n",
       "  'Product_Price': 65,\n",
       "  'Product_Qty': 150,\n",
       "  'Manufacture_Month and Year': 'Febraury - 2019',\n",
       "  'Expire_Date': 'Best before 5 months from Manufacture'},\n",
       " '6': {'Product_Name': 'Tomato Ketchup',\n",
       "  'Product_Price': 122,\n",
       "  'Product_Qty': 100,\n",
       "  'Manufacture_Month and Year': 'June - 2020',\n",
       "  'Expire_Date': 'Best before 3 months from Manufacture'},\n",
       " '7': {'Product_Name': 'Green Chilli Sauce',\n",
       "  'Product_Price': 55,\n",
       "  'Product_Qty': 42,\n",
       "  'Manufacture_Month and Year': 'July - 2020',\n",
       "  'Expire_Date': 'Best before 4 months from Manufacture'},\n",
       " '8': {'Product_Name': 'Pappad',\n",
       "  'Product_Price': 60,\n",
       "  'Product_Qty': 100,\n",
       "  'Manufacture_Month and Year': 'April - 2020',\n",
       "  'Expire_Date': 'Best before 1 months from Manufacture'},\n",
       " '9': {'Product_Name': 'Cooking Oil',\n",
       "  'Product_Price': 160,\n",
       "  'Product_Qty': 100,\n",
       "  'Manufacture_Month and Year': 'October - 2020',\n",
       "  'Expire_Date': 'Best before 3 months from Manufacture'},\n",
       " '10': {'Product_Name': 'Shampoo',\n",
       "  'Product_Price': 180,\n",
       "  'Product_Qty': 10,\n",
       "  'Manufacture_Month and Year': 'November - 2020',\n",
       "  'Expire_Date': 'Best before 10 months from Manufacture'},\n",
       " '11': {'Product_Name': 'Panner',\n",
       "  'Product_Price': 60,\n",
       "  'Product_Qty': 65,\n",
       "  'Manufacture_Month and Year': 'December - 2020',\n",
       "  'Expire_Date': 'Best before 2 months from Manufacture'},\n",
       " '12': {'Product_Name': 'Cheese',\n",
       "  'Product_Price': 75,\n",
       "  'Product_Qty': 25,\n",
       "  'Manufacture_Month and Year': 'January - 2021',\n",
       "  'Expire_Date': 'Best before 2 months from Manufacture'},\n",
       " '13': {'Product_Name': 'Rava',\n",
       "  'Product_Price': 35,\n",
       "  'Product_Qty': 15,\n",
       "  'Manufacture_Month and Year': 'December - 2020',\n",
       "  'Expire_Date': 'Best before 3 months from Manufacture'},\n",
       " '15': {'Product_Name': 'Harpic ',\n",
       "  'Product_Price': 125,\n",
       "  'Product_Qty': 20,\n",
       "  'Manufacture_Month and Year': 'January - 2021',\n",
       "  'Expire_Date': 'Best before 2 months from Manufacture'},\n",
       " '14': {'Product_Name': 'Comfort',\n",
       "  'Product_Price': 112,\n",
       "  'Product_Qty': 25,\n",
       "  'Manufacture_Month and Year': 'January - 2021',\n",
       "  'Expire_Date': 'Best before 2 months from Manufacture'},\n",
       " 16: {'Product_Name': 'Wheat Flour',\n",
       "  'Product_Price': 30,\n",
       "  'Product_Qty': 12,\n",
       "  'Manufacture_Month and Year': 'February - 2021 ',\n",
       "  'Expire_Date': 'Best before 1 month from Manufacture'},\n",
       " 17: {'Product_Name': 'Poha',\n",
       "  'Product_Price': 23,\n",
       "  'Product_Qty': 20,\n",
       "  'Manufacture_Month and Year': 'March - 2021',\n",
       "  'Expire_Date': 'Best before 1 month from Manufacture'},\n",
       " 18: {'Product_Name': 'Biscuits',\n",
       "  'Product_Price': 10,\n",
       "  'Product_Qty': 10,\n",
       "  'Manufacture_Month and Year': 'March - 2021',\n",
       "  'Expire_Date': 'Best before 4 months from Manufacture'},\n",
       " 19: {'Product_Name': 'Perk',\n",
       "  'Product_Price': 5,\n",
       "  'Product_Qty': 16,\n",
       "  'Manufacture_Month and Year': 'April - 2021',\n",
       "  'Expire_Date': 'Best before 1 month from Manufacture'}}"
      ]
     },
     "execution_count": 28,
     "metadata": {},
     "output_type": "execute_result"
    }
   ],
   "source": [
    "records[product_id] = {'Product_Name':Product_Name,'Product_Price':Product_Price,'Product_Qty':Product_Qty,\"Manufacture_Month and Year\":Manufacture_Month_Year,'Expire_Date':Expire_Date}\n",
    "records"
   ]
  },
  {
   "cell_type": "code",
   "execution_count": 29,
   "id": "206e2154",
   "metadata": {},
   "outputs": [
    {
     "name": "stdout",
     "output_type": "stream",
     "text": [
      "\n",
      "Enter the product_id: 20\n",
      "Enter the Product_Name: Soya Sauce\n",
      "Enter the Product_Price: 25\n",
      "Enter the Product_Qty: 30\n",
      "Enter the Manufacture_Month and Year: April - 2021\n",
      "Enter the Expire_Date: Best before 2 months from Manufacture\n"
     ]
    }
   ],
   "source": [
    "  \n",
    "  product_id =int(input(\"\\nEnter the product_id: \"))\n",
    "  Product_Name = str(input(\"Enter the Product_Name: \"))\n",
    "  Product_Price = int(input(\"Enter the Product_Price: \"))\n",
    "  Product_Qty =   int(input(\"Enter the Product_Qty: \"))\n",
    "  Manufacture_Month_Year =  str(input(\"Enter the Manufacture_Month and Year: \"))\n",
    "  Expire_Date=        str(input(\"Enter the Expire_Date: \"))"
   ]
  },
  {
   "cell_type": "code",
   "execution_count": 30,
   "id": "f64b1831",
   "metadata": {},
   "outputs": [],
   "source": [
    "records[product_id] = {'Product_Name':Product_Name,'Product_Price':Product_Price,'Product_Qty':Product_Qty,\"Manufacture_Month and Year\":Manufacture_Month_Year,'Expire_Date':Expire_Date}"
   ]
  },
  {
   "cell_type": "code",
   "execution_count": 31,
   "id": "ee7404b6",
   "metadata": {},
   "outputs": [
    {
     "name": "stdout",
     "output_type": "stream",
     "text": [
      "\n",
      "Enter the product_id: 21\n",
      "Enter the Product_Name: Basmati Rice\n",
      "Enter the Product_Price: 152\n",
      "Enter the Product_Qty: 20\n",
      "Enter the Manufacture_Month and Year: April - 2021\n",
      "Enter the Expire_Date: Best before 3 months from Manufacture\n"
     ]
    }
   ],
   "source": [
    " \n",
    "  product_id =int(input(\"\\nEnter the product_id: \"))\n",
    "  Product_Name = str(input(\"Enter the Product_Name: \"))\n",
    "  Product_Price = int(input(\"Enter the Product_Price: \"))\n",
    "  Product_Qty =   int(input(\"Enter the Product_Qty: \"))\n",
    "  Manufacture_Month_Year =  str(input(\"Enter the Manufacture_Month and Year: \"))\n",
    "  Expire_Date=        str(input(\"Enter the Expire_Date: \"))"
   ]
  },
  {
   "cell_type": "code",
   "execution_count": 32,
   "id": "0d2baba2",
   "metadata": {},
   "outputs": [],
   "source": [
    "records[product_id] = {'Product_Name':Product_Name,'Product_Price':Product_Price,'Product_Qty':Product_Qty,\"Manufacture_Month and Year\":Manufacture_Month_Year,'Expire_Date':Expire_Date}"
   ]
  },
  {
   "cell_type": "code",
   "execution_count": 34,
   "id": "55b29bff",
   "metadata": {},
   "outputs": [
    {
     "name": "stdout",
     "output_type": "stream",
     "text": [
      "\n",
      "Enter the product_id: 22\n",
      "Enter the Product_Name: Jowar\n",
      "Enter the Product_Price: 22\n",
      "Enter the Product_Qty: 24\n",
      "Enter the Manufacture_Month and Year: May - 2021\n",
      "Enter the Expire_Date: Best before 2 months from Manufacture\n"
     ]
    }
   ],
   "source": [
    "  product_id =int(input(\"\\nEnter the product_id: \"))\n",
    "  Product_Name = str(input(\"Enter the Product_Name: \"))\n",
    "  Product_Price = int(input(\"Enter the Product_Price: \"))\n",
    "  Product_Qty =   int(input(\"Enter the Product_Qty: \"))\n",
    "  Manufacture_Month_Year =  str(input(\"Enter the Manufacture_Month and Year: \"))\n",
    "  Expire_Date=        str(input(\"Enter the Expire_Date: \"))"
   ]
  },
  {
   "cell_type": "code",
   "execution_count": 35,
   "id": "36e3bd3b",
   "metadata": {},
   "outputs": [],
   "source": [
    "records[product_id] = {'Product_Name':Product_Name,'Product_Price':Product_Price,'Product_Qty':Product_Qty,\"Manufacture_Month and Year\":Manufacture_Month_Year,'Expire_Date':Expire_Date}"
   ]
  },
  {
   "cell_type": "code",
   "execution_count": 36,
   "id": "b86cc936",
   "metadata": {},
   "outputs": [
    {
     "data": {
      "text/plain": [
       "{'1': {'Product_Name': 'Choclates',\n",
       "  'Product_Price': 20,\n",
       "  'Product_Qty': 52,\n",
       "  'Manufacture_Month and Year': 'January - 2019',\n",
       "  'Expire_Date': 'Best before 6 months from Manufacture'},\n",
       " '2': {'Product_Name': 'Ginger Garlic Paste',\n",
       "  'Product_Price': 60,\n",
       "  'Product_Qty': 100,\n",
       "  'Manufacture_Month and Year': 'January - 2018',\n",
       "  'Expire_Date': 'Best before 6 months from Manufacture'},\n",
       " '3': {'Product_Name': 'MTR Gulab Jamnun Mix',\n",
       "  'Product_Price': 75,\n",
       "  'Product_Qty': 25,\n",
       "  'Manufacture_Month and Year': 'August - 2018',\n",
       "  'Expire_Date': 'Best before 3 months from Manufacture'},\n",
       " '4': {'Product_Name': 'Lays',\n",
       "  'Product_Price': 20,\n",
       "  'Product_Qty': 30,\n",
       "  'Manufacture_Month and Year': 'March - 2019',\n",
       "  'Expire_Date': 'Best before 2 months from Manufacture'},\n",
       " '5': {'Product_Name': 'Vangibath Powder',\n",
       "  'Product_Price': 65,\n",
       "  'Product_Qty': 150,\n",
       "  'Manufacture_Month and Year': 'Febraury - 2019',\n",
       "  'Expire_Date': 'Best before 5 months from Manufacture'},\n",
       " '6': {'Product_Name': 'Tomato Ketchup',\n",
       "  'Product_Price': 122,\n",
       "  'Product_Qty': 100,\n",
       "  'Manufacture_Month and Year': 'June - 2020',\n",
       "  'Expire_Date': 'Best before 3 months from Manufacture'},\n",
       " '7': {'Product_Name': 'Green Chilli Sauce',\n",
       "  'Product_Price': 55,\n",
       "  'Product_Qty': 42,\n",
       "  'Manufacture_Month and Year': 'July - 2020',\n",
       "  'Expire_Date': 'Best before 4 months from Manufacture'},\n",
       " '8': {'Product_Name': 'Pappad',\n",
       "  'Product_Price': 60,\n",
       "  'Product_Qty': 100,\n",
       "  'Manufacture_Month and Year': 'April - 2020',\n",
       "  'Expire_Date': 'Best before 1 months from Manufacture'},\n",
       " '9': {'Product_Name': 'Cooking Oil',\n",
       "  'Product_Price': 160,\n",
       "  'Product_Qty': 100,\n",
       "  'Manufacture_Month and Year': 'October - 2020',\n",
       "  'Expire_Date': 'Best before 3 months from Manufacture'},\n",
       " '10': {'Product_Name': 'Shampoo',\n",
       "  'Product_Price': 180,\n",
       "  'Product_Qty': 10,\n",
       "  'Manufacture_Month and Year': 'November - 2020',\n",
       "  'Expire_Date': 'Best before 10 months from Manufacture'},\n",
       " '11': {'Product_Name': 'Panner',\n",
       "  'Product_Price': 60,\n",
       "  'Product_Qty': 65,\n",
       "  'Manufacture_Month and Year': 'December - 2020',\n",
       "  'Expire_Date': 'Best before 2 months from Manufacture'},\n",
       " '12': {'Product_Name': 'Cheese',\n",
       "  'Product_Price': 75,\n",
       "  'Product_Qty': 25,\n",
       "  'Manufacture_Month and Year': 'January - 2021',\n",
       "  'Expire_Date': 'Best before 2 months from Manufacture'},\n",
       " '13': {'Product_Name': 'Rava',\n",
       "  'Product_Price': 35,\n",
       "  'Product_Qty': 15,\n",
       "  'Manufacture_Month and Year': 'December - 2020',\n",
       "  'Expire_Date': 'Best before 3 months from Manufacture'},\n",
       " '15': {'Product_Name': 'Harpic ',\n",
       "  'Product_Price': 125,\n",
       "  'Product_Qty': 20,\n",
       "  'Manufacture_Month and Year': 'January - 2021',\n",
       "  'Expire_Date': 'Best before 2 months from Manufacture'},\n",
       " '14': {'Product_Name': 'Comfort',\n",
       "  'Product_Price': 112,\n",
       "  'Product_Qty': 25,\n",
       "  'Manufacture_Month and Year': 'January - 2021',\n",
       "  'Expire_Date': 'Best before 2 months from Manufacture'},\n",
       " 16: {'Product_Name': 'Wheat Flour',\n",
       "  'Product_Price': 30,\n",
       "  'Product_Qty': 12,\n",
       "  'Manufacture_Month and Year': 'February - 2021 ',\n",
       "  'Expire_Date': 'Best before 1 month from Manufacture'},\n",
       " 17: {'Product_Name': 'Poha',\n",
       "  'Product_Price': 23,\n",
       "  'Product_Qty': 20,\n",
       "  'Manufacture_Month and Year': 'March - 2021',\n",
       "  'Expire_Date': 'Best before 1 month from Manufacture'},\n",
       " 18: {'Product_Name': 'Biscuits',\n",
       "  'Product_Price': 10,\n",
       "  'Product_Qty': 10,\n",
       "  'Manufacture_Month and Year': 'March - 2021',\n",
       "  'Expire_Date': 'Best before 4 months from Manufacture'},\n",
       " 19: {'Product_Name': 'Perk',\n",
       "  'Product_Price': 5,\n",
       "  'Product_Qty': 16,\n",
       "  'Manufacture_Month and Year': 'April - 2021',\n",
       "  'Expire_Date': 'Best before 1 month from Manufacture'},\n",
       " 20: {'Product_Name': 'Soya Sauce',\n",
       "  'Product_Price': 25,\n",
       "  'Product_Qty': 30,\n",
       "  'Manufacture_Month and Year': 'April - 2021',\n",
       "  'Expire_Date': 'Best before 2 months from Manufacture'},\n",
       " 21: {'Product_Name': 'Basmati Rice',\n",
       "  'Product_Price': 152,\n",
       "  'Product_Qty': 20,\n",
       "  'Manufacture_Month and Year': 'April - 2021',\n",
       "  'Expire_Date': 'Best before 3 months from Manufacture'},\n",
       " 22: {'Product_Name': 'Jowar',\n",
       "  'Product_Price': 22,\n",
       "  'Product_Qty': 24,\n",
       "  'Manufacture_Month and Year': 'May - 2021',\n",
       "  'Expire_Date': 'Best before 2 months from Manufacture'}}"
      ]
     },
     "execution_count": 36,
     "metadata": {},
     "output_type": "execute_result"
    }
   ],
   "source": [
    "records"
   ]
  },
  {
   "cell_type": "code",
   "execution_count": 37,
   "id": "872a072c",
   "metadata": {},
   "outputs": [
    {
     "name": "stdout",
     "output_type": "stream",
     "text": [
      "\n",
      "Enter the product_id: 23\n",
      "Enter the Product_Name: Citric Acid\n",
      "Enter the Product_Price: 24\n",
      "Enter the Product_Qty: 20\n",
      "Enter the Manufacture_Month and Year: June - 2021\n",
      "Enter the Expire_Date: Best before 3 months from Manufacture\n"
     ]
    }
   ],
   "source": [
    "  product_id =int(input(\"\\nEnter the product_id: \"))\n",
    "  Product_Name = str(input(\"Enter the Product_Name: \"))\n",
    "  Product_Price = int(input(\"Enter the Product_Price: \"))\n",
    "  Product_Qty =   int(input(\"Enter the Product_Qty: \"))\n",
    "  Manufacture_Month_Year =  str(input(\"Enter the Manufacture_Month and Year: \"))\n",
    "  Expire_Date=        str(input(\"Enter the Expire_Date: \"))"
   ]
  },
  {
   "cell_type": "code",
   "execution_count": 44,
   "id": "47eb348e",
   "metadata": {},
   "outputs": [],
   "source": [
    "records[product_id] = {'Product_Name':Product_Name,'Product_Price':Product_Price,'Product_Qty':Product_Qty,\"Manufacture_Month and Year\":Manufacture_Month_Year,'Expire_Date':Expire_Date}"
   ]
  },
  {
   "cell_type": "raw",
   "id": "2e1a7f87",
   "metadata": {},
   "source": []
  },
  {
   "cell_type": "code",
   "execution_count": 38,
   "id": "3c473359",
   "metadata": {},
   "outputs": [
    {
     "name": "stdout",
     "output_type": "stream",
     "text": [
      "\n",
      "Enter the product_id: 24\n",
      "Enter the Product_Name: Dates\n",
      "Enter the Product_Price: 115\n",
      "Enter the Product_Qty: 23\n",
      "Enter the Manufacture_Month and Year: June - 2021\n",
      "Enter the Expire_Date: Best before 2 months from Manufacture\n"
     ]
    }
   ],
   "source": [
    "  product_id =int(input(\"\\nEnter the product_id: \"))\n",
    "  Product_Name = str(input(\"Enter the Product_Name: \"))\n",
    "  Product_Price = int(input(\"Enter the Product_Price: \"))\n",
    "  Product_Qty =   int(input(\"Enter the Product_Qty: \"))\n",
    "  Manufacture_Month_Year =  str(input(\"Enter the Manufacture_Month and Year: \"))\n",
    "  Expire_Date=        str(input(\"Enter the Expire_Date: \"))"
   ]
  },
  {
   "cell_type": "code",
   "execution_count": null,
   "id": "77df8470",
   "metadata": {},
   "outputs": [],
   "source": []
  },
  {
   "cell_type": "code",
   "execution_count": 42,
   "id": "1e87f270",
   "metadata": {},
   "outputs": [],
   "source": [
    "records[product_id] = {'Product_Name':Product_Name,'Product_Price':Product_Price,'Product_Qty':Product_Qty,\"Manufacture_Month and Year\":Manufacture_Month_Year,'Expire_Date':Expire_Date}"
   ]
  },
  {
   "cell_type": "code",
   "execution_count": 40,
   "id": "c978b67b",
   "metadata": {},
   "outputs": [
    {
     "data": {
      "text/plain": [
       "{'1': {'Product_Name': 'Choclates',\n",
       "  'Product_Price': 20,\n",
       "  'Product_Qty': 52,\n",
       "  'Manufacture_Month and Year': 'January - 2019',\n",
       "  'Expire_Date': 'Best before 6 months from Manufacture'},\n",
       " '2': {'Product_Name': 'Ginger Garlic Paste',\n",
       "  'Product_Price': 60,\n",
       "  'Product_Qty': 100,\n",
       "  'Manufacture_Month and Year': 'January - 2018',\n",
       "  'Expire_Date': 'Best before 6 months from Manufacture'},\n",
       " '3': {'Product_Name': 'MTR Gulab Jamnun Mix',\n",
       "  'Product_Price': 75,\n",
       "  'Product_Qty': 25,\n",
       "  'Manufacture_Month and Year': 'August - 2018',\n",
       "  'Expire_Date': 'Best before 3 months from Manufacture'},\n",
       " '4': {'Product_Name': 'Lays',\n",
       "  'Product_Price': 20,\n",
       "  'Product_Qty': 30,\n",
       "  'Manufacture_Month and Year': 'March - 2019',\n",
       "  'Expire_Date': 'Best before 2 months from Manufacture'},\n",
       " '5': {'Product_Name': 'Vangibath Powder',\n",
       "  'Product_Price': 65,\n",
       "  'Product_Qty': 150,\n",
       "  'Manufacture_Month and Year': 'Febraury - 2019',\n",
       "  'Expire_Date': 'Best before 5 months from Manufacture'},\n",
       " '6': {'Product_Name': 'Tomato Ketchup',\n",
       "  'Product_Price': 122,\n",
       "  'Product_Qty': 100,\n",
       "  'Manufacture_Month and Year': 'June - 2020',\n",
       "  'Expire_Date': 'Best before 3 months from Manufacture'},\n",
       " '7': {'Product_Name': 'Green Chilli Sauce',\n",
       "  'Product_Price': 55,\n",
       "  'Product_Qty': 42,\n",
       "  'Manufacture_Month and Year': 'July - 2020',\n",
       "  'Expire_Date': 'Best before 4 months from Manufacture'},\n",
       " '8': {'Product_Name': 'Pappad',\n",
       "  'Product_Price': 60,\n",
       "  'Product_Qty': 100,\n",
       "  'Manufacture_Month and Year': 'April - 2020',\n",
       "  'Expire_Date': 'Best before 1 months from Manufacture'},\n",
       " '9': {'Product_Name': 'Cooking Oil',\n",
       "  'Product_Price': 160,\n",
       "  'Product_Qty': 100,\n",
       "  'Manufacture_Month and Year': 'October - 2020',\n",
       "  'Expire_Date': 'Best before 3 months from Manufacture'},\n",
       " '10': {'Product_Name': 'Shampoo',\n",
       "  'Product_Price': 180,\n",
       "  'Product_Qty': 10,\n",
       "  'Manufacture_Month and Year': 'November - 2020',\n",
       "  'Expire_Date': 'Best before 10 months from Manufacture'},\n",
       " '11': {'Product_Name': 'Panner',\n",
       "  'Product_Price': 60,\n",
       "  'Product_Qty': 65,\n",
       "  'Manufacture_Month and Year': 'December - 2020',\n",
       "  'Expire_Date': 'Best before 2 months from Manufacture'},\n",
       " '12': {'Product_Name': 'Cheese',\n",
       "  'Product_Price': 75,\n",
       "  'Product_Qty': 25,\n",
       "  'Manufacture_Month and Year': 'January - 2021',\n",
       "  'Expire_Date': 'Best before 2 months from Manufacture'},\n",
       " '13': {'Product_Name': 'Rava',\n",
       "  'Product_Price': 35,\n",
       "  'Product_Qty': 15,\n",
       "  'Manufacture_Month and Year': 'December - 2020',\n",
       "  'Expire_Date': 'Best before 3 months from Manufacture'},\n",
       " '15': {'Product_Name': 'Harpic ',\n",
       "  'Product_Price': 125,\n",
       "  'Product_Qty': 20,\n",
       "  'Manufacture_Month and Year': 'January - 2021',\n",
       "  'Expire_Date': 'Best before 2 months from Manufacture'},\n",
       " '14': {'Product_Name': 'Comfort',\n",
       "  'Product_Price': 112,\n",
       "  'Product_Qty': 25,\n",
       "  'Manufacture_Month and Year': 'January - 2021',\n",
       "  'Expire_Date': 'Best before 2 months from Manufacture'},\n",
       " 16: {'Product_Name': 'Wheat Flour',\n",
       "  'Product_Price': 30,\n",
       "  'Product_Qty': 12,\n",
       "  'Manufacture_Month and Year': 'February - 2021 ',\n",
       "  'Expire_Date': 'Best before 1 month from Manufacture'},\n",
       " 17: {'Product_Name': 'Poha',\n",
       "  'Product_Price': 23,\n",
       "  'Product_Qty': 20,\n",
       "  'Manufacture_Month and Year': 'March - 2021',\n",
       "  'Expire_Date': 'Best before 1 month from Manufacture'},\n",
       " 18: {'Product_Name': 'Biscuits',\n",
       "  'Product_Price': 10,\n",
       "  'Product_Qty': 10,\n",
       "  'Manufacture_Month and Year': 'March - 2021',\n",
       "  'Expire_Date': 'Best before 4 months from Manufacture'},\n",
       " 19: {'Product_Name': 'Perk',\n",
       "  'Product_Price': 5,\n",
       "  'Product_Qty': 16,\n",
       "  'Manufacture_Month and Year': 'April - 2021',\n",
       "  'Expire_Date': 'Best before 1 month from Manufacture'},\n",
       " 20: {'Product_Name': 'Soya Sauce',\n",
       "  'Product_Price': 25,\n",
       "  'Product_Qty': 30,\n",
       "  'Manufacture_Month and Year': 'April - 2021',\n",
       "  'Expire_Date': 'Best before 2 months from Manufacture'},\n",
       " 21: {'Product_Name': 'Basmati Rice',\n",
       "  'Product_Price': 152,\n",
       "  'Product_Qty': 20,\n",
       "  'Manufacture_Month and Year': 'April - 2021',\n",
       "  'Expire_Date': 'Best before 3 months from Manufacture'},\n",
       " 22: {'Product_Name': 'Jowar',\n",
       "  'Product_Price': 22,\n",
       "  'Product_Qty': 24,\n",
       "  'Manufacture_Month and Year': 'May - 2021',\n",
       "  'Expire_Date': 'Best before 2 months from Manufacture'},\n",
       " 24: {'Product_Name': 'Dates',\n",
       "  'Product_Price': 115,\n",
       "  'Product_Qty': 23,\n",
       "  'Manufacture_Month and Year': 'June - 2021',\n",
       "  'Expire_Date': 'Best before 2 months from Manufacture'}}"
      ]
     },
     "execution_count": 40,
     "metadata": {},
     "output_type": "execute_result"
    }
   ],
   "source": [
    "records"
   ]
  },
  {
   "cell_type": "code",
   "execution_count": 45,
   "id": "c2d7174b",
   "metadata": {},
   "outputs": [
    {
     "name": "stdout",
     "output_type": "stream",
     "text": [
      "\n",
      "Enter the product_id: 23\n",
      "Enter the Product_Name: Citric Acid\n",
      "Enter the Product_Price: 23\n",
      "Enter the Product_Qty: 20\n",
      "Enter the Manufacture_Month and Year: June - 2021\n",
      "Enter the Expire_Date: Best before the 1 month from Manufacture\n"
     ]
    }
   ],
   "source": [
    "  product_id =int(input(\"\\nEnter the product_id: \"))\n",
    "  Product_Name = str(input(\"Enter the Product_Name: \"))\n",
    "  Product_Price = int(input(\"Enter the Product_Price: \"))\n",
    "  Product_Qty =   int(input(\"Enter the Product_Qty: \"))\n",
    "  Manufacture_Month_Year =  str(input(\"Enter the Manufacture_Month and Year: \"))\n",
    "  Expire_Date=        str(input(\"Enter the Expire_Date: \"))"
   ]
  },
  {
   "cell_type": "code",
   "execution_count": 46,
   "id": "9e036e25",
   "metadata": {},
   "outputs": [],
   "source": [
    "records[product_id] = {'Product_Name':Product_Name,'Product_Price':Product_Price,'Product_Qty':Product_Qty,\"Manufacture_Month and Year\":Manufacture_Month_Year,'Expire_Date':Expire_Date}"
   ]
  },
  {
   "cell_type": "code",
   "execution_count": 47,
   "id": "e4b703eb",
   "metadata": {},
   "outputs": [
    {
     "name": "stdout",
     "output_type": "stream",
     "text": [
      "\n",
      "Enter the product_id: 25\n",
      "Enter the Product_Name: Mixed Fruit Jam\n",
      "Enter the Product_Price: 15\n",
      "Enter the Product_Qty: 24\n",
      "Enter the Manufacture_Month and Year: July - 2021\n",
      "Enter the Expire_Date: Best before the 2 months from Manufacture\n"
     ]
    }
   ],
   "source": [
    "  product_id =int(input(\"\\nEnter the product_id: \"))\n",
    "  Product_Name = str(input(\"Enter the Product_Name: \"))\n",
    "  Product_Price = int(input(\"Enter the Product_Price: \"))\n",
    "  Product_Qty =   int(input(\"Enter the Product_Qty: \"))\n",
    "  Manufacture_Month_Year =  str(input(\"Enter the Manufacture_Month and Year: \"))\n",
    "  Expire_Date=        str(input(\"Enter the Expire_Date: \"))"
   ]
  },
  {
   "cell_type": "code",
   "execution_count": 48,
   "id": "bb531eb3",
   "metadata": {},
   "outputs": [],
   "source": [
    "records[product_id] = {'Product_Name':Product_Name,'Product_Price':Product_Price,'Product_Qty':Product_Qty,\"Manufacture_Month and Year\":Manufacture_Month_Year,'Expire_Date':Expire_Date}"
   ]
  },
  {
   "cell_type": "code",
   "execution_count": 49,
   "id": "9e3749a7",
   "metadata": {},
   "outputs": [
    {
     "data": {
      "text/plain": [
       "{'1': {'Product_Name': 'Choclates',\n",
       "  'Product_Price': 20,\n",
       "  'Product_Qty': 52,\n",
       "  'Manufacture_Month and Year': 'January - 2019',\n",
       "  'Expire_Date': 'Best before 6 months from Manufacture'},\n",
       " '2': {'Product_Name': 'Ginger Garlic Paste',\n",
       "  'Product_Price': 60,\n",
       "  'Product_Qty': 100,\n",
       "  'Manufacture_Month and Year': 'January - 2018',\n",
       "  'Expire_Date': 'Best before 6 months from Manufacture'},\n",
       " '3': {'Product_Name': 'MTR Gulab Jamnun Mix',\n",
       "  'Product_Price': 75,\n",
       "  'Product_Qty': 25,\n",
       "  'Manufacture_Month and Year': 'August - 2018',\n",
       "  'Expire_Date': 'Best before 3 months from Manufacture'},\n",
       " '4': {'Product_Name': 'Lays',\n",
       "  'Product_Price': 20,\n",
       "  'Product_Qty': 30,\n",
       "  'Manufacture_Month and Year': 'March - 2019',\n",
       "  'Expire_Date': 'Best before 2 months from Manufacture'},\n",
       " '5': {'Product_Name': 'Vangibath Powder',\n",
       "  'Product_Price': 65,\n",
       "  'Product_Qty': 150,\n",
       "  'Manufacture_Month and Year': 'Febraury - 2019',\n",
       "  'Expire_Date': 'Best before 5 months from Manufacture'},\n",
       " '6': {'Product_Name': 'Tomato Ketchup',\n",
       "  'Product_Price': 122,\n",
       "  'Product_Qty': 100,\n",
       "  'Manufacture_Month and Year': 'June - 2020',\n",
       "  'Expire_Date': 'Best before 3 months from Manufacture'},\n",
       " '7': {'Product_Name': 'Green Chilli Sauce',\n",
       "  'Product_Price': 55,\n",
       "  'Product_Qty': 42,\n",
       "  'Manufacture_Month and Year': 'July - 2020',\n",
       "  'Expire_Date': 'Best before 4 months from Manufacture'},\n",
       " '8': {'Product_Name': 'Pappad',\n",
       "  'Product_Price': 60,\n",
       "  'Product_Qty': 100,\n",
       "  'Manufacture_Month and Year': 'April - 2020',\n",
       "  'Expire_Date': 'Best before 1 months from Manufacture'},\n",
       " '9': {'Product_Name': 'Cooking Oil',\n",
       "  'Product_Price': 160,\n",
       "  'Product_Qty': 100,\n",
       "  'Manufacture_Month and Year': 'October - 2020',\n",
       "  'Expire_Date': 'Best before 3 months from Manufacture'},\n",
       " '10': {'Product_Name': 'Shampoo',\n",
       "  'Product_Price': 180,\n",
       "  'Product_Qty': 10,\n",
       "  'Manufacture_Month and Year': 'November - 2020',\n",
       "  'Expire_Date': 'Best before 10 months from Manufacture'},\n",
       " '11': {'Product_Name': 'Panner',\n",
       "  'Product_Price': 60,\n",
       "  'Product_Qty': 65,\n",
       "  'Manufacture_Month and Year': 'December - 2020',\n",
       "  'Expire_Date': 'Best before 2 months from Manufacture'},\n",
       " '12': {'Product_Name': 'Cheese',\n",
       "  'Product_Price': 75,\n",
       "  'Product_Qty': 25,\n",
       "  'Manufacture_Month and Year': 'January - 2021',\n",
       "  'Expire_Date': 'Best before 2 months from Manufacture'},\n",
       " '13': {'Product_Name': 'Rava',\n",
       "  'Product_Price': 35,\n",
       "  'Product_Qty': 15,\n",
       "  'Manufacture_Month and Year': 'December - 2020',\n",
       "  'Expire_Date': 'Best before 3 months from Manufacture'},\n",
       " '15': {'Product_Name': 'Harpic ',\n",
       "  'Product_Price': 125,\n",
       "  'Product_Qty': 20,\n",
       "  'Manufacture_Month and Year': 'January - 2021',\n",
       "  'Expire_Date': 'Best before 2 months from Manufacture'},\n",
       " '14': {'Product_Name': 'Comfort',\n",
       "  'Product_Price': 112,\n",
       "  'Product_Qty': 25,\n",
       "  'Manufacture_Month and Year': 'January - 2021',\n",
       "  'Expire_Date': 'Best before 2 months from Manufacture'},\n",
       " 16: {'Product_Name': 'Wheat Flour',\n",
       "  'Product_Price': 30,\n",
       "  'Product_Qty': 12,\n",
       "  'Manufacture_Month and Year': 'February - 2021 ',\n",
       "  'Expire_Date': 'Best before 1 month from Manufacture'},\n",
       " 17: {'Product_Name': 'Poha',\n",
       "  'Product_Price': 23,\n",
       "  'Product_Qty': 20,\n",
       "  'Manufacture_Month and Year': 'March - 2021',\n",
       "  'Expire_Date': 'Best before 1 month from Manufacture'},\n",
       " 18: {'Product_Name': 'Biscuits',\n",
       "  'Product_Price': 10,\n",
       "  'Product_Qty': 10,\n",
       "  'Manufacture_Month and Year': 'March - 2021',\n",
       "  'Expire_Date': 'Best before 4 months from Manufacture'},\n",
       " 19: {'Product_Name': 'Perk',\n",
       "  'Product_Price': 5,\n",
       "  'Product_Qty': 16,\n",
       "  'Manufacture_Month and Year': 'April - 2021',\n",
       "  'Expire_Date': 'Best before 1 month from Manufacture'},\n",
       " 20: {'Product_Name': 'Soya Sauce',\n",
       "  'Product_Price': 25,\n",
       "  'Product_Qty': 30,\n",
       "  'Manufacture_Month and Year': 'April - 2021',\n",
       "  'Expire_Date': 'Best before 2 months from Manufacture'},\n",
       " 21: {'Product_Name': 'Basmati Rice',\n",
       "  'Product_Price': 152,\n",
       "  'Product_Qty': 20,\n",
       "  'Manufacture_Month and Year': 'April - 2021',\n",
       "  'Expire_Date': 'Best before 3 months from Manufacture'},\n",
       " 22: {'Product_Name': 'Jowar',\n",
       "  'Product_Price': 22,\n",
       "  'Product_Qty': 24,\n",
       "  'Manufacture_Month and Year': 'May - 2021',\n",
       "  'Expire_Date': 'Best before 2 months from Manufacture'},\n",
       " 24: {'Product_Name': 'Dates',\n",
       "  'Product_Price': 115,\n",
       "  'Product_Qty': 23,\n",
       "  'Manufacture_Month and Year': 'June - 2021',\n",
       "  'Expire_Date': 'Best before 2 months from Manufacture'},\n",
       " 23: {'Product_Name': 'Citric Acid',\n",
       "  'Product_Price': 23,\n",
       "  'Product_Qty': 20,\n",
       "  'Manufacture_Month and Year': 'June - 2021',\n",
       "  'Expire_Date': 'Best before the 1 month from Manufacture'},\n",
       " 25: {'Product_Name': 'Mixed Fruit Jam',\n",
       "  'Product_Price': 15,\n",
       "  'Product_Qty': 24,\n",
       "  'Manufacture_Month and Year': 'July - 2021',\n",
       "  'Expire_Date': 'Best before the 2 months from Manufacture'}}"
      ]
     },
     "execution_count": 49,
     "metadata": {},
     "output_type": "execute_result"
    }
   ],
   "source": [
    "records"
   ]
  },
  {
   "cell_type": "code",
   "execution_count": 50,
   "id": "1111a8e5",
   "metadata": {},
   "outputs": [
    {
     "name": "stdout",
     "output_type": "stream",
     "text": [
      "\n",
      "Enter the product_id: 26\n",
      "Enter the Product_Name: Cashews\n",
      "Enter the Product_Price: 300\n",
      "Enter the Product_Qty: 20\n",
      "Enter the Manufacture_Month and Year: July - 2021\n",
      "Enter the Expire_Date: best before the 4 months from Manufacture\n"
     ]
    }
   ],
   "source": [
    "  product_id =int(input(\"\\nEnter the product_id: \"))\n",
    "  Product_Name = str(input(\"Enter the Product_Name: \"))\n",
    "  Product_Price = int(input(\"Enter the Product_Price: \"))\n",
    "  Product_Qty =   int(input(\"Enter the Product_Qty: \"))\n",
    "  Manufacture_Month_Year =  str(input(\"Enter the Manufacture_Month and Year: \"))\n",
    "  Expire_Date=        str(input(\"Enter the Expire_Date: \"))"
   ]
  },
  {
   "cell_type": "code",
   "execution_count": 51,
   "id": "d2287328",
   "metadata": {},
   "outputs": [],
   "source": [
    "records[product_id] = {'Product_Name':Product_Name,'Product_Price':Product_Price,'Product_Qty':Product_Qty,\"Manufacture_Month and Year\":Manufacture_Month_Year,'Expire_Date':Expire_Date}"
   ]
  },
  {
   "cell_type": "code",
   "execution_count": 52,
   "id": "f071268f",
   "metadata": {},
   "outputs": [
    {
     "name": "stdout",
     "output_type": "stream",
     "text": [
      "\n",
      "Enter the product_id: 27\n",
      "Enter the Product_Name: Raisins\n",
      "Enter the Product_Price: 257\n",
      "Enter the Product_Qty: 23\n",
      "Enter the Manufacture_Month and Year: July - 2021\n",
      "Enter the Expire_Date: Best before 3 months  Manufacture\n"
     ]
    }
   ],
   "source": [
    "  product_id =int(input(\"\\nEnter the product_id: \"))\n",
    "  Product_Name = str(input(\"Enter the Product_Name: \"))\n",
    "  Product_Price = int(input(\"Enter the Product_Price: \"))\n",
    "  Product_Qty =   int(input(\"Enter the Product_Qty: \"))\n",
    "  Manufacture_Month_Year =  str(input(\"Enter the Manufacture_Month and Year: \"))\n",
    "  Expire_Date=        str(input(\"Enter the Expire_Date: \"))"
   ]
  },
  {
   "cell_type": "code",
   "execution_count": 53,
   "id": "edab3f29",
   "metadata": {},
   "outputs": [],
   "source": [
    "records[product_id] = {'Product_Name':Product_Name,'Product_Price':Product_Price,'Product_Qty':Product_Qty,\"Manufacture_Month and Year\":Manufacture_Month_Year,'Expire_Date':Expire_Date}"
   ]
  },
  {
   "cell_type": "code",
   "execution_count": 54,
   "id": "fe6d633d",
   "metadata": {},
   "outputs": [
    {
     "name": "stdout",
     "output_type": "stream",
     "text": [
      "\n",
      "Enter the product_id: 28\n",
      "Enter the Product_Name: Dabur Honey\n",
      "Enter the Product_Price: 116\n",
      "Enter the Product_Qty: 65\n",
      "Enter the Manufacture_Month and Year: August - 2021\n",
      "Enter the Expire_Date: Best before 3 months from Manufacture\n"
     ]
    }
   ],
   "source": [
    "  product_id =int(input(\"\\nEnter the product_id: \"))\n",
    "  Product_Name = str(input(\"Enter the Product_Name: \"))\n",
    "  Product_Price = int(input(\"Enter the Product_Price: \"))\n",
    "  Product_Qty =   int(input(\"Enter the Product_Qty: \"))\n",
    "  Manufacture_Month_Year =  str(input(\"Enter the Manufacture_Month and Year: \"))\n",
    "  Expire_Date=        str(input(\"Enter the Expire_Date: \"))"
   ]
  },
  {
   "cell_type": "code",
   "execution_count": 55,
   "id": "c459c062",
   "metadata": {},
   "outputs": [],
   "source": [
    "records[product_id] = {'Product_Name':Product_Name,'Product_Price':Product_Price,'Product_Qty':Product_Qty,\"Manufacture_Month and Year\":Manufacture_Month_Year,'Expire_Date':Expire_Date}"
   ]
  },
  {
   "cell_type": "code",
   "execution_count": 56,
   "id": "9d8f3310",
   "metadata": {},
   "outputs": [
    {
     "name": "stdout",
     "output_type": "stream",
     "text": [
      "\n",
      "Enter the product_id: 29\n",
      "Enter the Product_Name: Snickers\n",
      "Enter the Product_Price: 10\n",
      "Enter the Product_Qty: 23\n",
      "Enter the Manufacture_Month and Year: September - 2021\n",
      "Enter the Expire_Date: Best before 5 months from Manufacture\n"
     ]
    }
   ],
   "source": [
    "  product_id =int(input(\"\\nEnter the product_id: \"))\n",
    "  Product_Name = str(input(\"Enter the Product_Name: \"))\n",
    "  Product_Price = int(input(\"Enter the Product_Price: \"))\n",
    "  Product_Qty =   int(input(\"Enter the Product_Qty: \"))\n",
    "  Manufacture_Month_Year =  str(input(\"Enter the Manufacture_Month and Year: \"))\n",
    "  Expire_Date=        str(input(\"Enter the Expire_Date: \"))"
   ]
  },
  {
   "cell_type": "code",
   "execution_count": 57,
   "id": "02e8cbc7",
   "metadata": {},
   "outputs": [],
   "source": [
    "records[product_id] = {'Product_Name':Product_Name,'Product_Price':Product_Price,'Product_Qty':Product_Qty,\"Manufacture_Month and Year\":Manufacture_Month_Year,'Expire_Date':Expire_Date}"
   ]
  },
  {
   "cell_type": "code",
   "execution_count": 58,
   "id": "590f8ee3",
   "metadata": {},
   "outputs": [
    {
     "name": "stdout",
     "output_type": "stream",
     "text": [
      "\n",
      "Enter the product_id: 30\n",
      "Enter the Product_Name: Toothpaste\n",
      "Enter the Product_Price: 52\n",
      "Enter the Product_Qty: 6\n",
      "Enter the Manufacture_Month and Year: November - 2021\n",
      "Enter the Expire_Date: Best before 4 months from Manufacture\n"
     ]
    }
   ],
   "source": [
    "  product_id =int(input(\"\\nEnter the product_id: \"))\n",
    "  Product_Name = str(input(\"Enter the Product_Name: \"))\n",
    "  Product_Price = int(input(\"Enter the Product_Price: \"))\n",
    "  Product_Qty =   int(input(\"Enter the Product_Qty: \"))\n",
    "  Manufacture_Month_Year =  str(input(\"Enter the Manufacture_Month and Year: \"))\n",
    "  Expire_Date=        str(input(\"Enter the Expire_Date: \"))"
   ]
  },
  {
   "cell_type": "code",
   "execution_count": 59,
   "id": "4db5c80c",
   "metadata": {},
   "outputs": [],
   "source": [
    "records[product_id] = {'Product_Name':Product_Name,'Product_Price':Product_Price,'Product_Qty':Product_Qty,\"Manufacture_Month and Year\":Manufacture_Month_Year,'Expire_Date':Expire_Date}"
   ]
  },
  {
   "cell_type": "code",
   "execution_count": 60,
   "id": "996f56f8",
   "metadata": {},
   "outputs": [
    {
     "data": {
      "text/plain": [
       "{'1': {'Product_Name': 'Choclates',\n",
       "  'Product_Price': 20,\n",
       "  'Product_Qty': 52,\n",
       "  'Manufacture_Month and Year': 'January - 2019',\n",
       "  'Expire_Date': 'Best before 6 months from Manufacture'},\n",
       " '2': {'Product_Name': 'Ginger Garlic Paste',\n",
       "  'Product_Price': 60,\n",
       "  'Product_Qty': 100,\n",
       "  'Manufacture_Month and Year': 'January - 2018',\n",
       "  'Expire_Date': 'Best before 6 months from Manufacture'},\n",
       " '3': {'Product_Name': 'MTR Gulab Jamnun Mix',\n",
       "  'Product_Price': 75,\n",
       "  'Product_Qty': 25,\n",
       "  'Manufacture_Month and Year': 'August - 2018',\n",
       "  'Expire_Date': 'Best before 3 months from Manufacture'},\n",
       " '4': {'Product_Name': 'Lays',\n",
       "  'Product_Price': 20,\n",
       "  'Product_Qty': 30,\n",
       "  'Manufacture_Month and Year': 'March - 2019',\n",
       "  'Expire_Date': 'Best before 2 months from Manufacture'},\n",
       " '5': {'Product_Name': 'Vangibath Powder',\n",
       "  'Product_Price': 65,\n",
       "  'Product_Qty': 150,\n",
       "  'Manufacture_Month and Year': 'Febraury - 2019',\n",
       "  'Expire_Date': 'Best before 5 months from Manufacture'},\n",
       " '6': {'Product_Name': 'Tomato Ketchup',\n",
       "  'Product_Price': 122,\n",
       "  'Product_Qty': 100,\n",
       "  'Manufacture_Month and Year': 'June - 2020',\n",
       "  'Expire_Date': 'Best before 3 months from Manufacture'},\n",
       " '7': {'Product_Name': 'Green Chilli Sauce',\n",
       "  'Product_Price': 55,\n",
       "  'Product_Qty': 42,\n",
       "  'Manufacture_Month and Year': 'July - 2020',\n",
       "  'Expire_Date': 'Best before 4 months from Manufacture'},\n",
       " '8': {'Product_Name': 'Pappad',\n",
       "  'Product_Price': 60,\n",
       "  'Product_Qty': 100,\n",
       "  'Manufacture_Month and Year': 'April - 2020',\n",
       "  'Expire_Date': 'Best before 1 months from Manufacture'},\n",
       " '9': {'Product_Name': 'Cooking Oil',\n",
       "  'Product_Price': 160,\n",
       "  'Product_Qty': 100,\n",
       "  'Manufacture_Month and Year': 'October - 2020',\n",
       "  'Expire_Date': 'Best before 3 months from Manufacture'},\n",
       " '10': {'Product_Name': 'Shampoo',\n",
       "  'Product_Price': 180,\n",
       "  'Product_Qty': 10,\n",
       "  'Manufacture_Month and Year': 'November - 2020',\n",
       "  'Expire_Date': 'Best before 10 months from Manufacture'},\n",
       " '11': {'Product_Name': 'Panner',\n",
       "  'Product_Price': 60,\n",
       "  'Product_Qty': 65,\n",
       "  'Manufacture_Month and Year': 'December - 2020',\n",
       "  'Expire_Date': 'Best before 2 months from Manufacture'},\n",
       " '12': {'Product_Name': 'Cheese',\n",
       "  'Product_Price': 75,\n",
       "  'Product_Qty': 25,\n",
       "  'Manufacture_Month and Year': 'January - 2021',\n",
       "  'Expire_Date': 'Best before 2 months from Manufacture'},\n",
       " '13': {'Product_Name': 'Rava',\n",
       "  'Product_Price': 35,\n",
       "  'Product_Qty': 15,\n",
       "  'Manufacture_Month and Year': 'December - 2020',\n",
       "  'Expire_Date': 'Best before 3 months from Manufacture'},\n",
       " '15': {'Product_Name': 'Harpic ',\n",
       "  'Product_Price': 125,\n",
       "  'Product_Qty': 20,\n",
       "  'Manufacture_Month and Year': 'January - 2021',\n",
       "  'Expire_Date': 'Best before 2 months from Manufacture'},\n",
       " '14': {'Product_Name': 'Comfort',\n",
       "  'Product_Price': 112,\n",
       "  'Product_Qty': 25,\n",
       "  'Manufacture_Month and Year': 'January - 2021',\n",
       "  'Expire_Date': 'Best before 2 months from Manufacture'},\n",
       " 16: {'Product_Name': 'Wheat Flour',\n",
       "  'Product_Price': 30,\n",
       "  'Product_Qty': 12,\n",
       "  'Manufacture_Month and Year': 'February - 2021 ',\n",
       "  'Expire_Date': 'Best before 1 month from Manufacture'},\n",
       " 17: {'Product_Name': 'Poha',\n",
       "  'Product_Price': 23,\n",
       "  'Product_Qty': 20,\n",
       "  'Manufacture_Month and Year': 'March - 2021',\n",
       "  'Expire_Date': 'Best before 1 month from Manufacture'},\n",
       " 18: {'Product_Name': 'Biscuits',\n",
       "  'Product_Price': 10,\n",
       "  'Product_Qty': 10,\n",
       "  'Manufacture_Month and Year': 'March - 2021',\n",
       "  'Expire_Date': 'Best before 4 months from Manufacture'},\n",
       " 19: {'Product_Name': 'Perk',\n",
       "  'Product_Price': 5,\n",
       "  'Product_Qty': 16,\n",
       "  'Manufacture_Month and Year': 'April - 2021',\n",
       "  'Expire_Date': 'Best before 1 month from Manufacture'},\n",
       " 20: {'Product_Name': 'Soya Sauce',\n",
       "  'Product_Price': 25,\n",
       "  'Product_Qty': 30,\n",
       "  'Manufacture_Month and Year': 'April - 2021',\n",
       "  'Expire_Date': 'Best before 2 months from Manufacture'},\n",
       " 21: {'Product_Name': 'Basmati Rice',\n",
       "  'Product_Price': 152,\n",
       "  'Product_Qty': 20,\n",
       "  'Manufacture_Month and Year': 'April - 2021',\n",
       "  'Expire_Date': 'Best before 3 months from Manufacture'},\n",
       " 22: {'Product_Name': 'Jowar',\n",
       "  'Product_Price': 22,\n",
       "  'Product_Qty': 24,\n",
       "  'Manufacture_Month and Year': 'May - 2021',\n",
       "  'Expire_Date': 'Best before 2 months from Manufacture'},\n",
       " 24: {'Product_Name': 'Dates',\n",
       "  'Product_Price': 115,\n",
       "  'Product_Qty': 23,\n",
       "  'Manufacture_Month and Year': 'June - 2021',\n",
       "  'Expire_Date': 'Best before 2 months from Manufacture'},\n",
       " 23: {'Product_Name': 'Citric Acid',\n",
       "  'Product_Price': 23,\n",
       "  'Product_Qty': 20,\n",
       "  'Manufacture_Month and Year': 'June - 2021',\n",
       "  'Expire_Date': 'Best before the 1 month from Manufacture'},\n",
       " 25: {'Product_Name': 'Mixed Fruit Jam',\n",
       "  'Product_Price': 15,\n",
       "  'Product_Qty': 24,\n",
       "  'Manufacture_Month and Year': 'July - 2021',\n",
       "  'Expire_Date': 'Best before the 2 months from Manufacture'},\n",
       " 26: {'Product_Name': 'Cashews',\n",
       "  'Product_Price': 300,\n",
       "  'Product_Qty': 20,\n",
       "  'Manufacture_Month and Year': 'July - 2021',\n",
       "  'Expire_Date': 'best before the 4 months from Manufacture'},\n",
       " 27: {'Product_Name': 'Raisins',\n",
       "  'Product_Price': 257,\n",
       "  'Product_Qty': 23,\n",
       "  'Manufacture_Month and Year': 'July - 2021',\n",
       "  'Expire_Date': 'Best before 3 months  Manufacture'},\n",
       " 28: {'Product_Name': 'Dabur Honey',\n",
       "  'Product_Price': 116,\n",
       "  'Product_Qty': 65,\n",
       "  'Manufacture_Month and Year': 'August - 2021',\n",
       "  'Expire_Date': 'Best before 3 months from Manufacture'},\n",
       " 29: {'Product_Name': 'Snickers',\n",
       "  'Product_Price': 10,\n",
       "  'Product_Qty': 23,\n",
       "  'Manufacture_Month and Year': 'September - 2021',\n",
       "  'Expire_Date': 'Best before 5 months from Manufacture'},\n",
       " 30: {'Product_Name': 'Toothpaste',\n",
       "  'Product_Price': 52,\n",
       "  'Product_Qty': 6,\n",
       "  'Manufacture_Month and Year': 'November - 2021',\n",
       "  'Expire_Date': 'Best before 4 months from Manufacture'}}"
      ]
     },
     "execution_count": 60,
     "metadata": {},
     "output_type": "execute_result"
    }
   ],
   "source": [
    "records"
   ]
  },
  {
   "cell_type": "code",
   "execution_count": 66,
   "id": "beb610bd",
   "metadata": {
    "scrolled": true
   },
   "outputs": [
    {
     "data": {
      "text/plain": [
       "'{\"1\": {\"Product_Name\": \"Choclates\", \"Product_Price\": 20, \"Product_Qty\": 52, \"Manufacture_Month and Year\": \"January - 2019\", \"Expire_Date\": \"Best before 6 months from Manufacture\"}, \"2\": {\"Product_Name\": \"Ginger Garlic Paste\", \"Product_Price\": 60, \"Product_Qty\": 100, \"Manufacture_Month and Year\": \"January - 2018\", \"Expire_Date\": \"Best before 6 months from Manufacture\"}, \"3\": {\"Product_Name\": \"MTR Gulab Jamnun Mix\", \"Product_Price\": 75, \"Product_Qty\": 25, \"Manufacture_Month and Year\": \"August - 2018\", \"Expire_Date\": \"Best before 3 months from Manufacture\"}, \"4\": {\"Product_Name\": \"Lays\", \"Product_Price\": 20, \"Product_Qty\": 30, \"Manufacture_Month and Year\": \"March - 2019\", \"Expire_Date\": \"Best before 2 months from Manufacture\"}, \"5\": {\"Product_Name\": \"Vangibath Powder\", \"Product_Price\": 65, \"Product_Qty\": 150, \"Manufacture_Month and Year\": \"Febraury - 2019\", \"Expire_Date\": \"Best before 5 months from Manufacture\"}, \"6\": {\"Product_Name\": \"Tomato Ketchup\", \"Product_Price\": 122, \"Product_Qty\": 100, \"Manufacture_Month and Year\": \"June - 2020\", \"Expire_Date\": \"Best before 3 months from Manufacture\"}, \"7\": {\"Product_Name\": \"Green Chilli Sauce\", \"Product_Price\": 55, \"Product_Qty\": 42, \"Manufacture_Month and Year\": \"July - 2020\", \"Expire_Date\": \"Best before 4 months from Manufacture\"}, \"8\": {\"Product_Name\": \"Pappad\", \"Product_Price\": 60, \"Product_Qty\": 100, \"Manufacture_Month and Year\": \"April - 2020\", \"Expire_Date\": \"Best before 1 months from Manufacture\"}, \"9\": {\"Product_Name\": \"Cooking Oil\", \"Product_Price\": 160, \"Product_Qty\": 100, \"Manufacture_Month and Year\": \"October - 2020\", \"Expire_Date\": \"Best before 3 months from Manufacture\"}, \"10\": {\"Product_Name\": \"Shampoo\", \"Product_Price\": 180, \"Product_Qty\": 10, \"Manufacture_Month and Year\": \"November - 2020\", \"Expire_Date\": \"Best before 10 months from Manufacture\"}, \"11\": {\"Product_Name\": \"Panner\", \"Product_Price\": 60, \"Product_Qty\": 65, \"Manufacture_Month and Year\": \"December - 2020\", \"Expire_Date\": \"Best before 2 months from Manufacture\"}, \"12\": {\"Product_Name\": \"Cheese\", \"Product_Price\": 75, \"Product_Qty\": 25, \"Manufacture_Month and Year\": \"January - 2021\", \"Expire_Date\": \"Best before 2 months from Manufacture\"}, \"13\": {\"Product_Name\": \"Rava\", \"Product_Price\": 35, \"Product_Qty\": 15, \"Manufacture_Month and Year\": \"December - 2020\", \"Expire_Date\": \"Best before 3 months from Manufacture\"}, \"15\": {\"Product_Name\": \"Harpic \", \"Product_Price\": 125, \"Product_Qty\": 20, \"Manufacture_Month and Year\": \"January - 2021\", \"Expire_Date\": \"Best before 2 months from Manufacture\"}, \"14\": {\"Product_Name\": \"Comfort\", \"Product_Price\": 112, \"Product_Qty\": 25, \"Manufacture_Month and Year\": \"January - 2021\", \"Expire_Date\": \"Best before 2 months from Manufacture\"}, \"16\": {\"Product_Name\": \"Wheat Flour\", \"Product_Price\": 30, \"Product_Qty\": 12, \"Manufacture_Month and Year\": \"February - 2021 \", \"Expire_Date\": \"Best before 1 month from Manufacture\"}, \"17\": {\"Product_Name\": \"Poha\", \"Product_Price\": 23, \"Product_Qty\": 20, \"Manufacture_Month and Year\": \"March - 2021\", \"Expire_Date\": \"Best before 1 month from Manufacture\"}, \"18\": {\"Product_Name\": \"Biscuits\", \"Product_Price\": 10, \"Product_Qty\": 10, \"Manufacture_Month and Year\": \"March - 2021\", \"Expire_Date\": \"Best before 4 months from Manufacture\"}, \"19\": {\"Product_Name\": \"Perk\", \"Product_Price\": 5, \"Product_Qty\": 16, \"Manufacture_Month and Year\": \"April - 2021\", \"Expire_Date\": \"Best before 1 month from Manufacture\"}, \"20\": {\"Product_Name\": \"Soya Sauce\", \"Product_Price\": 25, \"Product_Qty\": 30, \"Manufacture_Month and Year\": \"April - 2021\", \"Expire_Date\": \"Best before 2 months from Manufacture\"}, \"21\": {\"Product_Name\": \"Basmati Rice\", \"Product_Price\": 152, \"Product_Qty\": 20, \"Manufacture_Month and Year\": \"April - 2021\", \"Expire_Date\": \"Best before 3 months from Manufacture\"}, \"22\": {\"Product_Name\": \"Jowar\", \"Product_Price\": 22, \"Product_Qty\": 24, \"Manufacture_Month and Year\": \"May - 2021\", \"Expire_Date\": \"Best before 2 months from Manufacture\"}, \"24\": {\"Product_Name\": \"Dates\", \"Product_Price\": 115, \"Product_Qty\": 23, \"Manufacture_Month and Year\": \"June - 2021\", \"Expire_Date\": \"Best before 2 months from Manufacture\"}, \"23\": {\"Product_Name\": \"Citric Acid\", \"Product_Price\": 23, \"Product_Qty\": 20, \"Manufacture_Month and Year\": \"June - 2021\", \"Expire_Date\": \"Best before the 1 month from Manufacture\"}, \"25\": {\"Product_Name\": \"Mixed Fruit Jam\", \"Product_Price\": 15, \"Product_Qty\": 24, \"Manufacture_Month and Year\": \"July - 2021\", \"Expire_Date\": \"Best before the 2 months from Manufacture\"}, \"26\": {\"Product_Name\": \"Cashews\", \"Product_Price\": 300, \"Product_Qty\": 20, \"Manufacture_Month and Year\": \"July - 2021\", \"Expire_Date\": \"best before the 4 months from Manufacture\"}, \"27\": {\"Product_Name\": \"Raisins\", \"Product_Price\": 257, \"Product_Qty\": 23, \"Manufacture_Month and Year\": \"July - 2021\", \"Expire_Date\": \"Best before 3 months  Manufacture\"}, \"28\": {\"Product_Name\": \"Dabur Honey\", \"Product_Price\": 116, \"Product_Qty\": 65, \"Manufacture_Month and Year\": \"August - 2021\", \"Expire_Date\": \"Best before 3 months from Manufacture\"}, \"29\": {\"Product_Name\": \"Snickers\", \"Product_Price\": 10, \"Product_Qty\": 23, \"Manufacture_Month and Year\": \"September - 2021\", \"Expire_Date\": \"Best before 5 months from Manufacture\"}, \"30\": {\"Product_Name\": \"Toothpaste\", \"Product_Price\": 52, \"Product_Qty\": 6, \"Manufacture_Month and Year\": \"November - 2021\", \"Expire_Date\": \"Best before 4 months from Manufacture\"}}'"
      ]
     },
     "execution_count": 66,
     "metadata": {},
     "output_type": "execute_result"
    }
   ],
   "source": [
    "import json\n",
    "js = json.dumps(records)\n",
    "js"
   ]
  },
  {
   "cell_type": "code",
   "execution_count": 70,
   "id": "6681e0f3",
   "metadata": {},
   "outputs": [],
   "source": [
    "fd = open(\"records.json\",\"w\")\n",
    "fd.write(js)\n",
    "fd.close()"
   ]
  },
  {
   "cell_type": "code",
   "execution_count": 71,
   "id": "d1d3b3a7",
   "metadata": {},
   "outputs": [],
   "source": [
    "fd = open(\"records.json\",\"r\")\n",
    "txt = fd.read()\n",
    "fd.close()"
   ]
  },
  {
   "cell_type": "code",
   "execution_count": 72,
   "id": "2c41d833",
   "metadata": {},
   "outputs": [
    {
     "data": {
      "text/plain": [
       "str"
      ]
     },
     "execution_count": 72,
     "metadata": {},
     "output_type": "execute_result"
    }
   ],
   "source": [
    "type(js)"
   ]
  },
  {
   "cell_type": "code",
   "execution_count": 73,
   "id": "650c5825",
   "metadata": {},
   "outputs": [
    {
     "data": {
      "text/plain": [
       "'{\"1\": {\"Product_Name\": \"Choclates\", \"Product_Price\": 20, \"Product_Qty\": 52, \"Manufacture_Month and Year\": \"January - 2019\", \"Expire_Date\": \"Best before 6 months from Manufacture\"}, \"2\": {\"Product_Name\": \"Ginger Garlic Paste\", \"Product_Price\": 60, \"Product_Qty\": 100, \"Manufacture_Month and Year\": \"January - 2018\", \"Expire_Date\": \"Best before 6 months from Manufacture\"}, \"3\": {\"Product_Name\": \"MTR Gulab Jamnun Mix\", \"Product_Price\": 75, \"Product_Qty\": 25, \"Manufacture_Month and Year\": \"August - 2018\", \"Expire_Date\": \"Best before 3 months from Manufacture\"}, \"4\": {\"Product_Name\": \"Lays\", \"Product_Price\": 20, \"Product_Qty\": 30, \"Manufacture_Month and Year\": \"March - 2019\", \"Expire_Date\": \"Best before 2 months from Manufacture\"}, \"5\": {\"Product_Name\": \"Vangibath Powder\", \"Product_Price\": 65, \"Product_Qty\": 150, \"Manufacture_Month and Year\": \"Febraury - 2019\", \"Expire_Date\": \"Best before 5 months from Manufacture\"}, \"6\": {\"Product_Name\": \"Tomato Ketchup\", \"Product_Price\": 122, \"Product_Qty\": 100, \"Manufacture_Month and Year\": \"June - 2020\", \"Expire_Date\": \"Best before 3 months from Manufacture\"}, \"7\": {\"Product_Name\": \"Green Chilli Sauce\", \"Product_Price\": 55, \"Product_Qty\": 42, \"Manufacture_Month and Year\": \"July - 2020\", \"Expire_Date\": \"Best before 4 months from Manufacture\"}, \"8\": {\"Product_Name\": \"Pappad\", \"Product_Price\": 60, \"Product_Qty\": 100, \"Manufacture_Month and Year\": \"April - 2020\", \"Expire_Date\": \"Best before 1 months from Manufacture\"}, \"9\": {\"Product_Name\": \"Cooking Oil\", \"Product_Price\": 160, \"Product_Qty\": 100, \"Manufacture_Month and Year\": \"October - 2020\", \"Expire_Date\": \"Best before 3 months from Manufacture\"}, \"10\": {\"Product_Name\": \"Shampoo\", \"Product_Price\": 180, \"Product_Qty\": 10, \"Manufacture_Month and Year\": \"November - 2020\", \"Expire_Date\": \"Best before 10 months from Manufacture\"}, \"11\": {\"Product_Name\": \"Panner\", \"Product_Price\": 60, \"Product_Qty\": 65, \"Manufacture_Month and Year\": \"December - 2020\", \"Expire_Date\": \"Best before 2 months from Manufacture\"}, \"12\": {\"Product_Name\": \"Cheese\", \"Product_Price\": 75, \"Product_Qty\": 25, \"Manufacture_Month and Year\": \"January - 2021\", \"Expire_Date\": \"Best before 2 months from Manufacture\"}, \"13\": {\"Product_Name\": \"Rava\", \"Product_Price\": 35, \"Product_Qty\": 15, \"Manufacture_Month and Year\": \"December - 2020\", \"Expire_Date\": \"Best before 3 months from Manufacture\"}, \"15\": {\"Product_Name\": \"Harpic \", \"Product_Price\": 125, \"Product_Qty\": 20, \"Manufacture_Month and Year\": \"January - 2021\", \"Expire_Date\": \"Best before 2 months from Manufacture\"}, \"14\": {\"Product_Name\": \"Comfort\", \"Product_Price\": 112, \"Product_Qty\": 25, \"Manufacture_Month and Year\": \"January - 2021\", \"Expire_Date\": \"Best before 2 months from Manufacture\"}, \"16\": {\"Product_Name\": \"Wheat Flour\", \"Product_Price\": 30, \"Product_Qty\": 12, \"Manufacture_Month and Year\": \"February - 2021 \", \"Expire_Date\": \"Best before 1 month from Manufacture\"}, \"17\": {\"Product_Name\": \"Poha\", \"Product_Price\": 23, \"Product_Qty\": 20, \"Manufacture_Month and Year\": \"March - 2021\", \"Expire_Date\": \"Best before 1 month from Manufacture\"}, \"18\": {\"Product_Name\": \"Biscuits\", \"Product_Price\": 10, \"Product_Qty\": 10, \"Manufacture_Month and Year\": \"March - 2021\", \"Expire_Date\": \"Best before 4 months from Manufacture\"}, \"19\": {\"Product_Name\": \"Perk\", \"Product_Price\": 5, \"Product_Qty\": 16, \"Manufacture_Month and Year\": \"April - 2021\", \"Expire_Date\": \"Best before 1 month from Manufacture\"}, \"20\": {\"Product_Name\": \"Soya Sauce\", \"Product_Price\": 25, \"Product_Qty\": 30, \"Manufacture_Month and Year\": \"April - 2021\", \"Expire_Date\": \"Best before 2 months from Manufacture\"}, \"21\": {\"Product_Name\": \"Basmati Rice\", \"Product_Price\": 152, \"Product_Qty\": 20, \"Manufacture_Month and Year\": \"April - 2021\", \"Expire_Date\": \"Best before 3 months from Manufacture\"}, \"22\": {\"Product_Name\": \"Jowar\", \"Product_Price\": 22, \"Product_Qty\": 24, \"Manufacture_Month and Year\": \"May - 2021\", \"Expire_Date\": \"Best before 2 months from Manufacture\"}, \"24\": {\"Product_Name\": \"Dates\", \"Product_Price\": 115, \"Product_Qty\": 23, \"Manufacture_Month and Year\": \"June - 2021\", \"Expire_Date\": \"Best before 2 months from Manufacture\"}, \"23\": {\"Product_Name\": \"Citric Acid\", \"Product_Price\": 23, \"Product_Qty\": 20, \"Manufacture_Month and Year\": \"June - 2021\", \"Expire_Date\": \"Best before the 1 month from Manufacture\"}, \"25\": {\"Product_Name\": \"Mixed Fruit Jam\", \"Product_Price\": 15, \"Product_Qty\": 24, \"Manufacture_Month and Year\": \"July - 2021\", \"Expire_Date\": \"Best before the 2 months from Manufacture\"}, \"26\": {\"Product_Name\": \"Cashews\", \"Product_Price\": 300, \"Product_Qty\": 20, \"Manufacture_Month and Year\": \"July - 2021\", \"Expire_Date\": \"best before the 4 months from Manufacture\"}, \"27\": {\"Product_Name\": \"Raisins\", \"Product_Price\": 257, \"Product_Qty\": 23, \"Manufacture_Month and Year\": \"July - 2021\", \"Expire_Date\": \"Best before 3 months  Manufacture\"}, \"28\": {\"Product_Name\": \"Dabur Honey\", \"Product_Price\": 116, \"Product_Qty\": 65, \"Manufacture_Month and Year\": \"August - 2021\", \"Expire_Date\": \"Best before 3 months from Manufacture\"}, \"29\": {\"Product_Name\": \"Snickers\", \"Product_Price\": 10, \"Product_Qty\": 23, \"Manufacture_Month and Year\": \"September - 2021\", \"Expire_Date\": \"Best before 5 months from Manufacture\"}, \"30\": {\"Product_Name\": \"Toothpaste\", \"Product_Price\": 52, \"Product_Qty\": 6, \"Manufacture_Month and Year\": \"November - 2021\", \"Expire_Date\": \"Best before 4 months from Manufacture\"}}'"
      ]
     },
     "execution_count": 73,
     "metadata": {},
     "output_type": "execute_result"
    }
   ],
   "source": [
    "txt"
   ]
  },
  {
   "cell_type": "code",
   "execution_count": 74,
   "id": "eda18319",
   "metadata": {},
   "outputs": [
    {
     "data": {
      "text/plain": [
       "'{\"1\": {\"Product_Name\": \"Choclates\", \"Product_Price\": 20, \"Product_Qty\": 52, \"Manufacture_Month and Year\": \"January - 2019\", \"Expire_Date\": \"Best before 6 months from Manufacture\"}, \"2\": {\"Product_Name\": \"Ginger Garlic Paste\", \"Product_Price\": 60, \"Product_Qty\": 100, \"Manufacture_Month and Year\": \"January - 2018\", \"Expire_Date\": \"Best before 6 months from Manufacture\"}, \"3\": {\"Product_Name\": \"MTR Gulab Jamnun Mix\", \"Product_Price\": 75, \"Product_Qty\": 25, \"Manufacture_Month and Year\": \"August - 2018\", \"Expire_Date\": \"Best before 3 months from Manufacture\"}, \"4\": {\"Product_Name\": \"Lays\", \"Product_Price\": 20, \"Product_Qty\": 30, \"Manufacture_Month and Year\": \"March - 2019\", \"Expire_Date\": \"Best before 2 months from Manufacture\"}, \"5\": {\"Product_Name\": \"Vangibath Powder\", \"Product_Price\": 65, \"Product_Qty\": 150, \"Manufacture_Month and Year\": \"Febraury - 2019\", \"Expire_Date\": \"Best before 5 months from Manufacture\"}, \"6\": {\"Product_Name\": \"Tomato Ketchup\", \"Product_Price\": 122, \"Product_Qty\": 100, \"Manufacture_Month and Year\": \"June - 2020\", \"Expire_Date\": \"Best before 3 months from Manufacture\"}, \"7\": {\"Product_Name\": \"Green Chilli Sauce\", \"Product_Price\": 55, \"Product_Qty\": 42, \"Manufacture_Month and Year\": \"July - 2020\", \"Expire_Date\": \"Best before 4 months from Manufacture\"}, \"8\": {\"Product_Name\": \"Pappad\", \"Product_Price\": 60, \"Product_Qty\": 100, \"Manufacture_Month and Year\": \"April - 2020\", \"Expire_Date\": \"Best before 1 months from Manufacture\"}, \"9\": {\"Product_Name\": \"Cooking Oil\", \"Product_Price\": 160, \"Product_Qty\": 100, \"Manufacture_Month and Year\": \"October - 2020\", \"Expire_Date\": \"Best before 3 months from Manufacture\"}, \"10\": {\"Product_Name\": \"Shampoo\", \"Product_Price\": 180, \"Product_Qty\": 10, \"Manufacture_Month and Year\": \"November - 2020\", \"Expire_Date\": \"Best before 10 months from Manufacture\"}, \"11\": {\"Product_Name\": \"Panner\", \"Product_Price\": 60, \"Product_Qty\": 65, \"Manufacture_Month and Year\": \"December - 2020\", \"Expire_Date\": \"Best before 2 months from Manufacture\"}, \"12\": {\"Product_Name\": \"Cheese\", \"Product_Price\": 75, \"Product_Qty\": 25, \"Manufacture_Month and Year\": \"January - 2021\", \"Expire_Date\": \"Best before 2 months from Manufacture\"}, \"13\": {\"Product_Name\": \"Rava\", \"Product_Price\": 35, \"Product_Qty\": 15, \"Manufacture_Month and Year\": \"December - 2020\", \"Expire_Date\": \"Best before 3 months from Manufacture\"}, \"15\": {\"Product_Name\": \"Harpic \", \"Product_Price\": 125, \"Product_Qty\": 20, \"Manufacture_Month and Year\": \"January - 2021\", \"Expire_Date\": \"Best before 2 months from Manufacture\"}, \"14\": {\"Product_Name\": \"Comfort\", \"Product_Price\": 112, \"Product_Qty\": 25, \"Manufacture_Month and Year\": \"January - 2021\", \"Expire_Date\": \"Best before 2 months from Manufacture\"}, \"16\": {\"Product_Name\": \"Wheat Flour\", \"Product_Price\": 30, \"Product_Qty\": 12, \"Manufacture_Month and Year\": \"February - 2021 \", \"Expire_Date\": \"Best before 1 month from Manufacture\"}, \"17\": {\"Product_Name\": \"Poha\", \"Product_Price\": 23, \"Product_Qty\": 20, \"Manufacture_Month and Year\": \"March - 2021\", \"Expire_Date\": \"Best before 1 month from Manufacture\"}, \"18\": {\"Product_Name\": \"Biscuits\", \"Product_Price\": 10, \"Product_Qty\": 10, \"Manufacture_Month and Year\": \"March - 2021\", \"Expire_Date\": \"Best before 4 months from Manufacture\"}, \"19\": {\"Product_Name\": \"Perk\", \"Product_Price\": 5, \"Product_Qty\": 16, \"Manufacture_Month and Year\": \"April - 2021\", \"Expire_Date\": \"Best before 1 month from Manufacture\"}, \"20\": {\"Product_Name\": \"Soya Sauce\", \"Product_Price\": 25, \"Product_Qty\": 30, \"Manufacture_Month and Year\": \"April - 2021\", \"Expire_Date\": \"Best before 2 months from Manufacture\"}, \"21\": {\"Product_Name\": \"Basmati Rice\", \"Product_Price\": 152, \"Product_Qty\": 20, \"Manufacture_Month and Year\": \"April - 2021\", \"Expire_Date\": \"Best before 3 months from Manufacture\"}, \"22\": {\"Product_Name\": \"Jowar\", \"Product_Price\": 22, \"Product_Qty\": 24, \"Manufacture_Month and Year\": \"May - 2021\", \"Expire_Date\": \"Best before 2 months from Manufacture\"}, \"24\": {\"Product_Name\": \"Dates\", \"Product_Price\": 115, \"Product_Qty\": 23, \"Manufacture_Month and Year\": \"June - 2021\", \"Expire_Date\": \"Best before 2 months from Manufacture\"}, \"23\": {\"Product_Name\": \"Citric Acid\", \"Product_Price\": 23, \"Product_Qty\": 20, \"Manufacture_Month and Year\": \"June - 2021\", \"Expire_Date\": \"Best before the 1 month from Manufacture\"}, \"25\": {\"Product_Name\": \"Mixed Fruit Jam\", \"Product_Price\": 15, \"Product_Qty\": 24, \"Manufacture_Month and Year\": \"July - 2021\", \"Expire_Date\": \"Best before the 2 months from Manufacture\"}, \"26\": {\"Product_Name\": \"Cashews\", \"Product_Price\": 300, \"Product_Qty\": 20, \"Manufacture_Month and Year\": \"July - 2021\", \"Expire_Date\": \"best before the 4 months from Manufacture\"}, \"27\": {\"Product_Name\": \"Raisins\", \"Product_Price\": 257, \"Product_Qty\": 23, \"Manufacture_Month and Year\": \"July - 2021\", \"Expire_Date\": \"Best before 3 months  Manufacture\"}, \"28\": {\"Product_Name\": \"Dabur Honey\", \"Product_Price\": 116, \"Product_Qty\": 65, \"Manufacture_Month and Year\": \"August - 2021\", \"Expire_Date\": \"Best before 3 months from Manufacture\"}, \"29\": {\"Product_Name\": \"Snickers\", \"Product_Price\": 10, \"Product_Qty\": 23, \"Manufacture_Month and Year\": \"September - 2021\", \"Expire_Date\": \"Best before 5 months from Manufacture\"}, \"30\": {\"Product_Name\": \"Toothpaste\", \"Product_Price\": 52, \"Product_Qty\": 6, \"Manufacture_Month and Year\": \"November - 2021\", \"Expire_Date\": \"Best before 4 months from Manufacture\"}}'"
      ]
     },
     "execution_count": 74,
     "metadata": {},
     "output_type": "execute_result"
    }
   ],
   "source": [
    "records = json.loads(txt)\n",
    "txt"
   ]
  }
 ],
 "metadata": {
  "kernelspec": {
   "display_name": "Python 3",
   "language": "python",
   "name": "python3"
  },
  "language_info": {
   "codemirror_mode": {
    "name": "ipython",
    "version": 3
   },
   "file_extension": ".py",
   "mimetype": "text/x-python",
   "name": "python",
   "nbconvert_exporter": "python",
   "pygments_lexer": "ipython3",
   "version": "3.8.8"
  }
 },
 "nbformat": 4,
 "nbformat_minor": 5
}
